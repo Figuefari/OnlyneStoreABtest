{
 "cells": [
  {
   "cell_type": "markdown",
   "metadata": {},
   "source": [
    "# Análisis de hipótesis para tienda en línea"
   ]
  },
  {
   "cell_type": "markdown",
   "metadata": {},
   "source": [
    "Para aumentar los ingresos de una gran tienda en línea, el departamento de marketing tiene una lista de hipótesis que estudiaremos en el desarrollo de este informe.\n",
    "\n",
    "La estructura del análisis seguirá los siguientes puntos en el mismo orden:\n",
    "\n",
    "- Priorización de hipótesis.\n",
    "\n",
    "- Ejecución de un test A/B.\n",
    "\n",
    "- Análisis de los resultados.\n",
    "\n",
    "\n",
    "A continuación, detallamos los tópicos abarcados durante el proyecto:\n"
   ]
  },
  {
   "cell_type": "markdown",
   "metadata": {},
   "source": [
    "**Tabla de contenidos:**\n",
    "\n",
    "**PRIMERA PARTE: PRIORIZACIÓN DE HIPÓTESIS**\n",
    "\n",
    " **1. Inicialización:**\n",
    " \n",
    "    - Carga de datos\n",
    "    - Descripción de los datos\n",
    "    - Conclusiones preliminares\n",
    "    \n",
    " **2. Preprocesamiento de datos:**\n",
    " \n",
    "    - Cambio de nombre a columnas\n",
    " \n",
    " **3. Análisis de datos:**\n",
    " \n",
    "    - Framework ICE\n",
    "    - Framework RICE\n",
    "    - Conclusiones de priorización de hipótesis\n",
    "    - Resultado final\n",
    "    \n",
    "**SEGUNDA PARTE: ANÁLISIS DE TEST A/B**\n",
    "\n",
    " **4. Inicialización**\n",
    " \n",
    "    - Carga de datos\n",
    "    - Descripción de datos\n",
    "    - Conclusiones previas al preprocesamiento\n",
    "    \n",
    " **5. Preprocesamiento**\n",
    " \n",
    "    - Comprobación de duplicados\n",
    "    - Snake case\n",
    "    - Cambio de tipos de datos\n",
    "    - Usuarios y grupos de testeo\n",
    "    - Conclusiones al preprocesamiento\n",
    "    \n",
    " **6. Análisis de datos**\n",
    " \n",
    "    - Planteamiento de interrrogantes\n",
    "    - Orden de análisis\n",
    "    - Datos acumulados\n",
    "    - Diferencias relativas\n",
    "    - Tasas de conversión\n",
    "    - Dispersión de los datos\n",
    "    - Significancia estadística\n",
    "    - Criterios usados para datos anómalos\n",
    "    - Significancia en datos filtrados\n",
    "    - Decisión basada en los resultados\n",
    " \n",
    "  **7. Conclusiones finales**\n",
    "    "
   ]
  },
  {
   "cell_type": "markdown",
   "metadata": {},
   "source": [
    "## Primera parte: Inicialización"
   ]
  },
  {
   "cell_type": "markdown",
   "metadata": {},
   "source": [
    "Para comenzar, trabajaremos con nueve hipótesis y sus respectivas evaluaciones contenidas en el archivo *hyphotheses.csv*."
   ]
  },
  {
   "cell_type": "code",
   "execution_count": 1,
   "metadata": {},
   "outputs": [],
   "source": [
    "# Cargamos las librerías\n",
    "import pandas as pd\n",
    "import datetime as dt\n",
    "import numpy as np\n",
    "import matplotlib.pyplot as plt\n",
    "import scipy.stats as stats"
   ]
  },
  {
   "cell_type": "markdown",
   "metadata": {},
   "source": [
    "### Carga de datos"
   ]
  },
  {
   "cell_type": "markdown",
   "metadata": {},
   "source": [
    "Descargamos el archivo que contiene las hipótesis junto a sus respectivas evaluaciones:"
   ]
  },
  {
   "cell_type": "code",
   "execution_count": 2,
   "metadata": {},
   "outputs": [],
   "source": [
    "# Cargamos los datos de las hipótesis\n",
    "hypotheses = pd.read_csv('/datasets/hypotheses_us.csv', sep=';')"
   ]
  },
  {
   "cell_type": "code",
   "execution_count": 3,
   "metadata": {
    "scrolled": true
   },
   "outputs": [
    {
     "name": "stdout",
     "output_type": "stream",
     "text": [
      "<class 'pandas.core.frame.DataFrame'>\n",
      "RangeIndex: 9 entries, 0 to 8\n",
      "Data columns (total 5 columns):\n",
      " #   Column      Non-Null Count  Dtype \n",
      "---  ------      --------------  ----- \n",
      " 0   Hypothesis  9 non-null      object\n",
      " 1   Reach       9 non-null      int64 \n",
      " 2   Impact      9 non-null      int64 \n",
      " 3   Confidence  9 non-null      int64 \n",
      " 4   Effort      9 non-null      int64 \n",
      "dtypes: int64(4), object(1)\n",
      "memory usage: 488.0+ bytes\n"
     ]
    }
   ],
   "source": [
    "#Vemos la información de los datos\n",
    "hypotheses.info()"
   ]
  },
  {
   "cell_type": "markdown",
   "metadata": {},
   "source": [
    "### Descripción de los datos"
   ]
  },
  {
   "cell_type": "markdown",
   "metadata": {},
   "source": [
    "**Los datos se dividen en 5 columnas:**\n",
    "\n",
    "**1. Hypothesis:**\n",
    "\n",
    "    - Descripción: breves descripciones de las hipótesis.\n",
    "    - Tipo de datos: Object.\n",
    "\n",
    "**2. Reach:**\n",
    "\n",
    "    - Descripción: alcance del usuario, en una escala del uno a diez.\n",
    "    - Tipo de datos: int64.\n",
    "    \n",
    "**3. Impact:**\n",
    "\n",
    "    - Descripción: impacto en los usuarios, en una escala del uno al diez.\n",
    "    - Tipo de datos: int64.\n",
    "    \n",
    "**4. Confidence:**\n",
    "\n",
    "    - Descripción: confianza en la hipótesis, en una escala del uno al diez.\n",
    "    - Tipo de datos: int64.\n",
    "    \n",
    "**5. Effort:**\n",
    "\n",
    "    - Descripción: los recursos necesarios para probar una hipótesis, en una escala del uno al diez. Cuanto mayor sea el valor Effort, más recursos requiere la prueba.\n",
    "    - Tipo de datos: int64."
   ]
  },
  {
   "cell_type": "markdown",
   "metadata": {},
   "source": [
    "Nuestro dataset tiene **9 filas de registros (una para cada hipótesis)** en la que se describen en escala de 1 al 10 las características de: **Reach (alcance del usuario), Impact (impacto en los usuarios), Confidence (confianza en la hipótesis) y Effort (recursos necesarios para probar cada hipótesis).**\n",
    "\n",
    "Visualizamos la tabla:"
   ]
  },
  {
   "cell_type": "code",
   "execution_count": 4,
   "metadata": {},
   "outputs": [],
   "source": [
    "# Configuramos ancho de columnas para que aparezca toda la descripción de las hipótesis\n",
    "pd.set_option('display.max_colwidth', None)"
   ]
  },
  {
   "cell_type": "code",
   "execution_count": 5,
   "metadata": {},
   "outputs": [
    {
     "data": {
      "text/html": [
       "<div>\n",
       "<style scoped>\n",
       "    .dataframe tbody tr th:only-of-type {\n",
       "        vertical-align: middle;\n",
       "    }\n",
       "\n",
       "    .dataframe tbody tr th {\n",
       "        vertical-align: top;\n",
       "    }\n",
       "\n",
       "    .dataframe thead th {\n",
       "        text-align: right;\n",
       "    }\n",
       "</style>\n",
       "<table border=\"1\" class=\"dataframe\">\n",
       "  <thead>\n",
       "    <tr style=\"text-align: right;\">\n",
       "      <th></th>\n",
       "      <th>Hypothesis</th>\n",
       "      <th>Reach</th>\n",
       "      <th>Impact</th>\n",
       "      <th>Confidence</th>\n",
       "      <th>Effort</th>\n",
       "    </tr>\n",
       "  </thead>\n",
       "  <tbody>\n",
       "    <tr>\n",
       "      <th>0</th>\n",
       "      <td>Add two new channels for attracting traffic. This will bring 30% more users</td>\n",
       "      <td>3</td>\n",
       "      <td>10</td>\n",
       "      <td>8</td>\n",
       "      <td>6</td>\n",
       "    </tr>\n",
       "    <tr>\n",
       "      <th>1</th>\n",
       "      <td>Launch your own delivery service. This will shorten delivery time</td>\n",
       "      <td>2</td>\n",
       "      <td>5</td>\n",
       "      <td>4</td>\n",
       "      <td>10</td>\n",
       "    </tr>\n",
       "    <tr>\n",
       "      <th>2</th>\n",
       "      <td>Add product recommendation blocks to the store's site. This will increase conversion and average purchase size</td>\n",
       "      <td>8</td>\n",
       "      <td>3</td>\n",
       "      <td>7</td>\n",
       "      <td>3</td>\n",
       "    </tr>\n",
       "    <tr>\n",
       "      <th>3</th>\n",
       "      <td>Change the category structure. This will increase conversion since users will find the products they want more quickly</td>\n",
       "      <td>8</td>\n",
       "      <td>3</td>\n",
       "      <td>3</td>\n",
       "      <td>8</td>\n",
       "    </tr>\n",
       "    <tr>\n",
       "      <th>4</th>\n",
       "      <td>Change the background color on the main page. This will increase user engagement</td>\n",
       "      <td>3</td>\n",
       "      <td>1</td>\n",
       "      <td>1</td>\n",
       "      <td>1</td>\n",
       "    </tr>\n",
       "    <tr>\n",
       "      <th>5</th>\n",
       "      <td>Add a customer review page. This will increase the number of orders</td>\n",
       "      <td>3</td>\n",
       "      <td>2</td>\n",
       "      <td>2</td>\n",
       "      <td>3</td>\n",
       "    </tr>\n",
       "    <tr>\n",
       "      <th>6</th>\n",
       "      <td>Show banners with current offers and sales on the main page. This will boost conversion</td>\n",
       "      <td>5</td>\n",
       "      <td>3</td>\n",
       "      <td>8</td>\n",
       "      <td>3</td>\n",
       "    </tr>\n",
       "    <tr>\n",
       "      <th>7</th>\n",
       "      <td>Add a subscription form to all the main pages. This will help you compile a mailing list</td>\n",
       "      <td>10</td>\n",
       "      <td>7</td>\n",
       "      <td>8</td>\n",
       "      <td>5</td>\n",
       "    </tr>\n",
       "    <tr>\n",
       "      <th>8</th>\n",
       "      <td>Launch a promotion that gives users discounts on their birthdays</td>\n",
       "      <td>1</td>\n",
       "      <td>9</td>\n",
       "      <td>9</td>\n",
       "      <td>5</td>\n",
       "    </tr>\n",
       "  </tbody>\n",
       "</table>\n",
       "</div>"
      ],
      "text/plain": [
       "                                                                                                               Hypothesis  \\\n",
       "0                                             Add two new channels for attracting traffic. This will bring 30% more users   \n",
       "1                                                       Launch your own delivery service. This will shorten delivery time   \n",
       "2          Add product recommendation blocks to the store's site. This will increase conversion and average purchase size   \n",
       "3  Change the category structure. This will increase conversion since users will find the products they want more quickly   \n",
       "4                                        Change the background color on the main page. This will increase user engagement   \n",
       "5                                                     Add a customer review page. This will increase the number of orders   \n",
       "6                                 Show banners with current offers and sales on the main page. This will boost conversion   \n",
       "7                                Add a subscription form to all the main pages. This will help you compile a mailing list   \n",
       "8                                                        Launch a promotion that gives users discounts on their birthdays   \n",
       "\n",
       "   Reach  Impact  Confidence  Effort  \n",
       "0      3      10           8       6  \n",
       "1      2       5           4      10  \n",
       "2      8       3           7       3  \n",
       "3      8       3           3       8  \n",
       "4      3       1           1       1  \n",
       "5      3       2           2       3  \n",
       "6      5       3           8       3  \n",
       "7     10       7           8       5  \n",
       "8      1       9           9       5  "
      ]
     },
     "execution_count": 5,
     "metadata": {},
     "output_type": "execute_result"
    }
   ],
   "source": [
    "# Dataset 1\n",
    "hypotheses"
   ]
  },
  {
   "cell_type": "markdown",
   "metadata": {},
   "source": [
    "**Primera hipótesis:**\n",
    "- *Agregar dos nuevos canales para atraer tráfico. Esto traerá un 30% más de usuarios.*\n",
    "\n",
    "**Segunda hipótesis:**\n",
    "- *Lanzar nuestro propio servicio de entrega. Esto acortará el tiempo de entrega.*\n",
    "\n",
    "**Tercera hipótesis:**\n",
    "- *Agregar bloques de recomendación de productos al sitio de la tienda. Esto aumentará la conversión y el tamaño promedio de compra.*\n",
    "\n",
    "**Cuarta hipótesis:**\n",
    "- *Cambiar la estructura de categorías. Esto aumentará la conversión ya que los usuarios encontrarán los productos que buscan más rápidamente.*\n",
    "\n",
    "**Quinta hipótesis:**\n",
    "- *Cambiar el color de fondo en la página principal. Esto aumentará la participación de los usuarios.*\n",
    "\n",
    "**Sexta hipótesis:**\n",
    "- *Agregar una página de revisión del cliente. Esto aumentará el número de pedidos.*\n",
    "\n",
    "**Séptima hipótesis:**\n",
    "- *Mostrar banners con ofertas y rebajas actuales en la página principal. Esto impulsará la conversión.*\n",
    "\n",
    "**Octava hipótesis:**\n",
    "- *Añadir un formulario de suscripción a todas las páginas principales. Esto ayudará a compilar una lista de correos.*\n",
    "\n",
    "**Novena hipótesis:**\n",
    "- *Lanzar una promoción que otorga a los usuarios descuentos en sus cumpleaños.*"
   ]
  },
  {
   "cell_type": "markdown",
   "metadata": {},
   "source": [
    "### Conclusiones previas al preprocesamiento"
   ]
  },
  {
   "cell_type": "markdown",
   "metadata": {},
   "source": [
    "Tenemos nueve hipótesis claramente entendibles que presentan cuatro características en la escala del 1 al 10. Algunas cosas que podemos notar:\n",
    "\n",
    "- **Todas las características presentan valores correctos de acuerdo a la escala establecida para todas las hipótesis.**\n",
    "\n",
    "- Tanto la descripción como características presentan tipos de datos correctos (object e int64).\n",
    "\n",
    "- No existen datos ausentes.\n",
    "\n",
    "El único mínimo cambio a esta tabla para facilitar el trabajo con ella, será aplicar snake case para los nombres de las columnas."
   ]
  },
  {
   "cell_type": "markdown",
   "metadata": {},
   "source": [
    "## Preprocesamiento: cambio de nombre a columnas"
   ]
  },
  {
   "cell_type": "code",
   "execution_count": 6,
   "metadata": {},
   "outputs": [
    {
     "data": {
      "text/plain": [
       "Index(['Hypothesis', 'Reach', 'Impact', 'Confidence', 'Effort'], dtype='object')"
      ]
     },
     "execution_count": 6,
     "metadata": {},
     "output_type": "execute_result"
    }
   ],
   "source": [
    "# Vemos los nombres de las columnas a cambiar\n",
    "hypotheses.columns"
   ]
  },
  {
   "cell_type": "code",
   "execution_count": 7,
   "metadata": {},
   "outputs": [],
   "source": [
    "# Cambiamos los nombres a minúsculas\n",
    "hypotheses.columns = ['hypothesis', 'reach', 'impact', 'confidence', 'effort']"
   ]
  },
  {
   "cell_type": "markdown",
   "metadata": {},
   "source": [
    "Tenemos listos nuestros datos para trabajar con ellos. Recordamos que solo hemos hecho dos cambios:\n",
    "- Cambiar el límite de ancho para visualizar mejor las hipótesis.\n",
    "- Cambiar nombres de las columnas a minúsculas."
   ]
  },
  {
   "cell_type": "markdown",
   "metadata": {},
   "source": [
    "## Análisis de datos"
   ]
  },
  {
   "cell_type": "markdown",
   "metadata": {},
   "source": [
    "Necesitamos mejorar los ingresos para la tienda y para eso disponemos de 9 hipótesis de como hacerlo. No podemos probar todas estas hipótesis ya que significarían un costo muy alto, pero sí, podemos priorizar las hipótesis. \n",
    "\n",
    "**Algunas interrogantes que surgen en base a esto son:**\n",
    "\n",
    "- *¿Cómo sabemos cuál hipótesis puede ser más útil?*\n",
    "- *¿Cuáles deberíamos dejar de lado?*\n",
    "\n",
    "\n",
    "Para trabajar en estas preguntas contamos con indicadores de una de las formas más populares de priorizar problemas: **ICE y RICE**. \n",
    "\n",
    "- **Impact:** medida en que afecta cualquier cambio a los usuarios, su experiencia y satisfacción con el producto/servicio.\n",
    "- **Confidence:** qué tan seguro estamos de que el producto/servicio afectará de tal manera (seguridad en las hipótesis).\n",
    "- **Effort:** cuánto costará probar las hipótesis.\n",
    "\n",
    "A esto le agregamos otro parámetro para la versión modificada (RICE):\n",
    "- **Reach:** cuántos usuarios se verán afectados por la actualización que queremos introducir.\n",
    "\n",
    "\n",
    "**Ya que contamos con estos datos, la forma de trabajar el análisis será la siguiente:**\n",
    "\n",
    "- Aplicaremos el framework ICE para priorizar nuestras hipótesis y así ordenarlas de forma descendente para visualizar claramente de la más a menos importante.\n",
    "\n",
    "- Luego aplicaremos el framework RICE para priorizar hipótesis y compararémos los resultados con los anteriores.\n"
   ]
  },
  {
   "cell_type": "markdown",
   "metadata": {},
   "source": [
    "### Framework ICE"
   ]
  },
  {
   "cell_type": "markdown",
   "metadata": {},
   "source": [
    "Calcularémos el parámetro ICE para todas las hipótesis y agregaremos los valores obtenidos a la tabla existente."
   ]
  },
  {
   "cell_type": "code",
   "execution_count": 8,
   "metadata": {},
   "outputs": [
    {
     "data": {
      "text/html": [
       "<div>\n",
       "<style scoped>\n",
       "    .dataframe tbody tr th:only-of-type {\n",
       "        vertical-align: middle;\n",
       "    }\n",
       "\n",
       "    .dataframe tbody tr th {\n",
       "        vertical-align: top;\n",
       "    }\n",
       "\n",
       "    .dataframe thead th {\n",
       "        text-align: right;\n",
       "    }\n",
       "</style>\n",
       "<table border=\"1\" class=\"dataframe\">\n",
       "  <thead>\n",
       "    <tr style=\"text-align: right;\">\n",
       "      <th></th>\n",
       "      <th>hypothesis</th>\n",
       "      <th>ICE</th>\n",
       "    </tr>\n",
       "  </thead>\n",
       "  <tbody>\n",
       "    <tr>\n",
       "      <th>8</th>\n",
       "      <td>Launch a promotion that gives users discounts on their birthdays</td>\n",
       "      <td>16.200000</td>\n",
       "    </tr>\n",
       "    <tr>\n",
       "      <th>0</th>\n",
       "      <td>Add two new channels for attracting traffic. This will bring 30% more users</td>\n",
       "      <td>13.333333</td>\n",
       "    </tr>\n",
       "    <tr>\n",
       "      <th>7</th>\n",
       "      <td>Add a subscription form to all the main pages. This will help you compile a mailing list</td>\n",
       "      <td>11.200000</td>\n",
       "    </tr>\n",
       "    <tr>\n",
       "      <th>6</th>\n",
       "      <td>Show banners with current offers and sales on the main page. This will boost conversion</td>\n",
       "      <td>8.000000</td>\n",
       "    </tr>\n",
       "    <tr>\n",
       "      <th>2</th>\n",
       "      <td>Add product recommendation blocks to the store's site. This will increase conversion and average purchase size</td>\n",
       "      <td>7.000000</td>\n",
       "    </tr>\n",
       "    <tr>\n",
       "      <th>1</th>\n",
       "      <td>Launch your own delivery service. This will shorten delivery time</td>\n",
       "      <td>2.000000</td>\n",
       "    </tr>\n",
       "    <tr>\n",
       "      <th>5</th>\n",
       "      <td>Add a customer review page. This will increase the number of orders</td>\n",
       "      <td>1.333333</td>\n",
       "    </tr>\n",
       "    <tr>\n",
       "      <th>3</th>\n",
       "      <td>Change the category structure. This will increase conversion since users will find the products they want more quickly</td>\n",
       "      <td>1.125000</td>\n",
       "    </tr>\n",
       "    <tr>\n",
       "      <th>4</th>\n",
       "      <td>Change the background color on the main page. This will increase user engagement</td>\n",
       "      <td>1.000000</td>\n",
       "    </tr>\n",
       "  </tbody>\n",
       "</table>\n",
       "</div>"
      ],
      "text/plain": [
       "                                                                                                               hypothesis  \\\n",
       "8                                                        Launch a promotion that gives users discounts on their birthdays   \n",
       "0                                             Add two new channels for attracting traffic. This will bring 30% more users   \n",
       "7                                Add a subscription form to all the main pages. This will help you compile a mailing list   \n",
       "6                                 Show banners with current offers and sales on the main page. This will boost conversion   \n",
       "2          Add product recommendation blocks to the store's site. This will increase conversion and average purchase size   \n",
       "1                                                       Launch your own delivery service. This will shorten delivery time   \n",
       "5                                                     Add a customer review page. This will increase the number of orders   \n",
       "3  Change the category structure. This will increase conversion since users will find the products they want more quickly   \n",
       "4                                        Change the background color on the main page. This will increase user engagement   \n",
       "\n",
       "         ICE  \n",
       "8  16.200000  \n",
       "0  13.333333  \n",
       "7  11.200000  \n",
       "6   8.000000  \n",
       "2   7.000000  \n",
       "1   2.000000  \n",
       "5   1.333333  \n",
       "3   1.125000  \n",
       "4   1.000000  "
      ]
     },
     "execution_count": 8,
     "metadata": {},
     "output_type": "execute_result"
    }
   ],
   "source": [
    "# Creamos una nueva columna\n",
    "hypotheses['ICE'] = (\n",
    "    (hypotheses['impact'] * hypotheses['confidence']) / hypotheses['effort'])\n",
    "\n",
    "# Mostramos los valores ordenados de forma descendente\n",
    "hypotheses[['hypothesis', 'ICE']].sort_values(by='ICE', ascending= False)"
   ]
  },
  {
   "cell_type": "markdown",
   "metadata": {},
   "source": [
    "**El ICE muestra que la hipótesis más prometedora es la novena:** \n",
    "\n",
    "\"*Lanzar una promoción que otorga a los usuarios descuentos en sus cumpleaños.\"*\n",
    "\n",
    "Otras hipótesis destacables en orden son: \n",
    "- La primera: \"*Añadir dos nuevos canales para atraer tráfico\".*\n",
    "- La octava: \"*Añadir un formulario de suscripción a todas las páginas principales\".*\n",
    "- La séptima: \"*Mostrar banners con ofertas y rebajas actuales en la página principal\".*"
   ]
  },
  {
   "cell_type": "markdown",
   "metadata": {},
   "source": [
    "### Framework RICE"
   ]
  },
  {
   "cell_type": "markdown",
   "metadata": {},
   "source": [
    "Al igual que con ICE, calcularémos RICE para todas las hipótesis y agregaremos los valores obtenidos a la tabla existente."
   ]
  },
  {
   "cell_type": "code",
   "execution_count": 9,
   "metadata": {},
   "outputs": [
    {
     "data": {
      "text/html": [
       "<div>\n",
       "<style scoped>\n",
       "    .dataframe tbody tr th:only-of-type {\n",
       "        vertical-align: middle;\n",
       "    }\n",
       "\n",
       "    .dataframe tbody tr th {\n",
       "        vertical-align: top;\n",
       "    }\n",
       "\n",
       "    .dataframe thead th {\n",
       "        text-align: right;\n",
       "    }\n",
       "</style>\n",
       "<table border=\"1\" class=\"dataframe\">\n",
       "  <thead>\n",
       "    <tr style=\"text-align: right;\">\n",
       "      <th></th>\n",
       "      <th>hypothesis</th>\n",
       "      <th>RICE</th>\n",
       "    </tr>\n",
       "  </thead>\n",
       "  <tbody>\n",
       "    <tr>\n",
       "      <th>7</th>\n",
       "      <td>Add a subscription form to all the main pages. This will help you compile a mailing list</td>\n",
       "      <td>112.0</td>\n",
       "    </tr>\n",
       "    <tr>\n",
       "      <th>2</th>\n",
       "      <td>Add product recommendation blocks to the store's site. This will increase conversion and average purchase size</td>\n",
       "      <td>56.0</td>\n",
       "    </tr>\n",
       "    <tr>\n",
       "      <th>0</th>\n",
       "      <td>Add two new channels for attracting traffic. This will bring 30% more users</td>\n",
       "      <td>40.0</td>\n",
       "    </tr>\n",
       "    <tr>\n",
       "      <th>6</th>\n",
       "      <td>Show banners with current offers and sales on the main page. This will boost conversion</td>\n",
       "      <td>40.0</td>\n",
       "    </tr>\n",
       "    <tr>\n",
       "      <th>8</th>\n",
       "      <td>Launch a promotion that gives users discounts on their birthdays</td>\n",
       "      <td>16.2</td>\n",
       "    </tr>\n",
       "    <tr>\n",
       "      <th>3</th>\n",
       "      <td>Change the category structure. This will increase conversion since users will find the products they want more quickly</td>\n",
       "      <td>9.0</td>\n",
       "    </tr>\n",
       "    <tr>\n",
       "      <th>1</th>\n",
       "      <td>Launch your own delivery service. This will shorten delivery time</td>\n",
       "      <td>4.0</td>\n",
       "    </tr>\n",
       "    <tr>\n",
       "      <th>5</th>\n",
       "      <td>Add a customer review page. This will increase the number of orders</td>\n",
       "      <td>4.0</td>\n",
       "    </tr>\n",
       "    <tr>\n",
       "      <th>4</th>\n",
       "      <td>Change the background color on the main page. This will increase user engagement</td>\n",
       "      <td>3.0</td>\n",
       "    </tr>\n",
       "  </tbody>\n",
       "</table>\n",
       "</div>"
      ],
      "text/plain": [
       "                                                                                                               hypothesis  \\\n",
       "7                                Add a subscription form to all the main pages. This will help you compile a mailing list   \n",
       "2          Add product recommendation blocks to the store's site. This will increase conversion and average purchase size   \n",
       "0                                             Add two new channels for attracting traffic. This will bring 30% more users   \n",
       "6                                 Show banners with current offers and sales on the main page. This will boost conversion   \n",
       "8                                                        Launch a promotion that gives users discounts on their birthdays   \n",
       "3  Change the category structure. This will increase conversion since users will find the products they want more quickly   \n",
       "1                                                       Launch your own delivery service. This will shorten delivery time   \n",
       "5                                                     Add a customer review page. This will increase the number of orders   \n",
       "4                                        Change the background color on the main page. This will increase user engagement   \n",
       "\n",
       "    RICE  \n",
       "7  112.0  \n",
       "2   56.0  \n",
       "0   40.0  \n",
       "6   40.0  \n",
       "8   16.2  \n",
       "3    9.0  \n",
       "1    4.0  \n",
       "5    4.0  \n",
       "4    3.0  "
      ]
     },
     "execution_count": 9,
     "metadata": {},
     "output_type": "execute_result"
    }
   ],
   "source": [
    "# Creamos una nueva columna\n",
    "hypotheses['RICE'] = (\n",
    "    (hypotheses['reach'] * hypotheses['impact']* hypotheses['confidence']) / hypotheses['effort'])\n",
    "\n",
    "# Mostramos los valores ordenados de forma descendente\n",
    "hypotheses[['hypothesis', 'RICE']].sort_values(by='RICE', ascending= False)"
   ]
  },
  {
   "cell_type": "markdown",
   "metadata": {},
   "source": [
    "\n",
    "**El ranking de mejores hipótesis de acuerdo a RICE queda conformado de la siguiente manera:**\n",
    "\n",
    "**Primer lugar; octava hipótesis:** \"*Añadir un formulario de suscripción a todas las páginas principales\".* \n",
    "\n",
    "De acuerdo a ICE, antes había alcanzado el tercer lugar.\n",
    "\n",
    "**Segundo lugar; tercera hipótesis:** \"*Agregar bloques de recomendación de productos al sitio de la tienda.\".*\n",
    "\n",
    "\n",
    "**Tercer lugar; primera hipótesis:** \"*Añadir dos nuevos canales para atraer tráfico\".*\n",
    "\n",
    "De acuerdo a ICE, antes había alcanzado el segundo lugar.\n",
    "\n",
    "**Cuarto lugar; séptima hipótesis:** \"*Mostrar banners con ofertas y rebajas actuales en la página principal\".*\n",
    "\n",
    "De acuerdo a ICE, también se encuentra en cuarto lugar esta ocasión."
   ]
  },
  {
   "cell_type": "markdown",
   "metadata": {},
   "source": [
    "### Conclusiones de la priorización de hipótesis"
   ]
  },
  {
   "cell_type": "markdown",
   "metadata": {},
   "source": [
    "La priorización de hipótesis cambia de acuerdo al framework elegido.\n",
    "\n",
    "**En el caso de RICE, ya no encontramos a la novena hipótesis como la mejor opción. Esto se debe a su bajo valor de alcance (solo 1), siendo la hipótesis de menor alcance entre todas.**\n",
    "\n",
    "Para RICE, la nueva hipótesis que entra a los primeros puestos es la tercera; esto se explica por su alto valor de alcance (8).\n",
    "\n",
    "Tanto la primera, séptima y octava se repiten como las más prometedoras. Analicemos estas hipótesis:\n"
   ]
  },
  {
   "cell_type": "markdown",
   "metadata": {},
   "source": [
    "**Primera hipótesis:** \"*Añadir dos nuevos canales para atraer tráfico\".*\n",
    "\n",
    "- ICE: segundo lugar.\n",
    "- RICE: tercer lugar.\n",
    "\n",
    " \n",
    "- Su valor de **alcance es solo 3** mientras que el de **impacto llega a 10, confianza 8 y esfuerzo 6**. Con esto se entiende claramente que el **valor alto de ICE conseguido se debe al alto impacto y buena confianza que otorga la hipótesis**. El esfuerzo requerido es medio y el valor de alcance es bajo lo que se refleja en que haya bajado a tercer lugar de prioridad con RICE.\n",
    "\n",
    "\n",
    "**Séptima hipótesis:** \"*Mostrar banners con ofertas y rebajas actuales en la página principal\".*\n",
    "\n",
    "- ICE: cuarto lugar.\n",
    "- RICE: cuarto lugar.\n",
    "\n",
    " \n",
    "- Su valor de alcance es de 5 (intermedio), su valor de impacto es 3 (no afecta mayormente a los usuarios), su confianza es de 8 (hay confianza en que la hipótesis será correcta) y el esfuerzo que costará probar la hipótesis es relativamente bajo (3). En síntesis, **la confianza y costos de prueba son el factor positivo de esta hipótesis, pero no representa un mayor impacto y el alcance solo es medio.**\n",
    "\n",
    "**Octava hipótesis:** \"*Añadir un formulario de suscripción a todas las páginas principales\".*\n",
    "\n",
    "- ICE: tercer lugar.\n",
    "- RICE: primer lugar.\n",
    "\n",
    " \n",
    "- Su valor de alcance es de **10 (el más alto de todas las hipótesis)**, su valor de **impacto es 7 (afecta a gran parte de los usuarios) , su confianza es de 8 (hay confianza en que la hipótesis será correcta)** y el esfuerzo que costará probar la hipótesis es media (5). Debido a sus buenos parámetros, se perfila quizás como la mejor hipótesis a probar. Hay que destacar que consiguió el primer lugar en RICE. Otra buena hipótesis vendría a ser la primera, que muestra un mayor impacto, pero la octava hipótesis solo tiene 3 puntos menos en este aspecto y respecto al alcance la supera con creces (10 vs 3) y el esfuerzo en probarla es levemente menor."
   ]
  },
  {
   "cell_type": "markdown",
   "metadata": {},
   "source": [
    "Veamos ahora, las hipótesis que estuvieron dentro de las mejores pero quedaron excluídas de algún framework:\n",
    "\n",
    "**Novena hipótesis:** \"*Lanzar una promoción que otorga a los usuarios descuentos en sus cumpleaños.\"*\n",
    "\n",
    "- ICE: primer lugar.\n",
    "- RICE: no presente en las mejores.\n",
    "\n",
    "\n",
    "- **El alcance es el más bajo (solo 1)**, mientras que en impacto muestra el segundo valor más alto (9) y en **confianza es la más alta (9)**. Los esfuerzos son medios (5), al igual que nuestra mejor hipótesis hasta ahora (la octava); pero **su muy bajo alcance hace que sea descartable si tomamos en cuenta el framework RICE.**\n",
    "\n",
    "**Tercera hipótesis:** \"*Agregar bloques de recomendación de productos al sitio de la tienda.\".*\n",
    "\n",
    "- ICE: no presente entre las mejores.\n",
    "- RICE: segundo lugar.\n",
    "\n",
    "Tiene un alto alcance (8) lo que le permite aparecer en el ranking, ya que en impacto es relativamente bajo (3) y en confianza tiene un buen valor pero no el mejor (7). El costo de probarla es relativamente bajo (3) igualando al de la segunda hipótesis. **Se perfilaba como una buena candidata debido a su buen alcance y bajo costo principalmente, pero tiene un nivel de impacto bajo lo que la hace quedar fuera del ranking de ICE.**"
   ]
  },
  {
   "cell_type": "markdown",
   "metadata": {},
   "source": [
    "### Resultado final"
   ]
  },
  {
   "cell_type": "markdown",
   "metadata": {},
   "source": [
    "**Sin dudas la octava hipótesis se presenta como la mejor opción a probar.** Tiene muy buenos parámetros generales y representa un esfuerzo medio para probarla.\n",
    "\n",
    "- Si deseamos hipótesis de poco alcance pero alto impacto, algunas buenas alternativas pueden ser la primera hipótesis o la novena. Presentan altos valores de impacto, alta confianza y esfuerzo medio.\n",
    "\n",
    "- Por otro lado, si queremos un alto alcance, confianza medianamente alta y bajo costo; la tercera hipótesis se presenta como buena opción. Sin embargo, representa una medida que no genera mayor impacto en los usuarios."
   ]
  },
  {
   "cell_type": "markdown",
   "metadata": {},
   "source": [
    "## Segunda parte: Análisis de test A/B"
   ]
  },
  {
   "cell_type": "markdown",
   "metadata": {},
   "source": [
    "De acuerdo al test A/B realizado, obtuvimos dos archivos con los resultados: *orders_us.csv* y *visitors_us.csv*. A continuación, exploraremos estos datos para posteriormente analizarlos."
   ]
  },
  {
   "cell_type": "markdown",
   "metadata": {},
   "source": [
    "### Carga de datos"
   ]
  },
  {
   "cell_type": "code",
   "execution_count": 10,
   "metadata": {},
   "outputs": [
    {
     "name": "stdout",
     "output_type": "stream",
     "text": [
      "<class 'pandas.core.frame.DataFrame'>\n",
      "RangeIndex: 1197 entries, 0 to 1196\n",
      "Data columns (total 5 columns):\n",
      " #   Column         Non-Null Count  Dtype  \n",
      "---  ------         --------------  -----  \n",
      " 0   transactionId  1197 non-null   int64  \n",
      " 1   visitorId      1197 non-null   int64  \n",
      " 2   date           1197 non-null   object \n",
      " 3   revenue        1197 non-null   float64\n",
      " 4   group          1197 non-null   object \n",
      "dtypes: float64(1), int64(2), object(2)\n",
      "memory usage: 46.9+ KB\n"
     ]
    }
   ],
   "source": [
    "# Cargamos el archivo orders\n",
    "orders = pd.read_csv('/datasets/orders_us.csv')\n",
    "\n",
    "# Mostramos la información\n",
    "orders.info()"
   ]
  },
  {
   "cell_type": "code",
   "execution_count": 11,
   "metadata": {},
   "outputs": [
    {
     "name": "stdout",
     "output_type": "stream",
     "text": [
      "<class 'pandas.core.frame.DataFrame'>\n",
      "RangeIndex: 62 entries, 0 to 61\n",
      "Data columns (total 3 columns):\n",
      " #   Column  Non-Null Count  Dtype \n",
      "---  ------  --------------  ----- \n",
      " 0   date    62 non-null     object\n",
      " 1   group   62 non-null     object\n",
      " 2   visits  62 non-null     int64 \n",
      "dtypes: int64(1), object(2)\n",
      "memory usage: 1.6+ KB\n"
     ]
    }
   ],
   "source": [
    "# Cargamos el archivo visitors\n",
    "visits = pd.read_csv('/datasets/visits_us.csv')\n",
    "\n",
    "# Mostramos la información\n",
    "visits.info()"
   ]
  },
  {
   "cell_type": "markdown",
   "metadata": {},
   "source": [
    "#### Descripción de los datos"
   ]
  },
  {
   "cell_type": "markdown",
   "metadata": {},
   "source": [
    "**Dataset: orders.**\n",
    "\n",
    "Nuestro archivo **orders posee 1197 registros y 5 columnas.** Algunos de los datos presentados en las columnas son:\n",
    "\n",
    "**1. transactionId:**\n",
    "\n",
    "    - Descripción: identificador de pedido.\n",
    "    - Tipo de datos: int64.\n",
    "\n",
    "**2. visitorId:**\n",
    "\n",
    "    - Descripción: identificador del usuario que realizó el pedido.\n",
    "    - Tipo de datos: int64.\n",
    "    \n",
    "**3. date:**\n",
    "\n",
    "    - Descripción: fecha del pedido.\n",
    "    - Tipo de datos: object.\n",
    " \n",
    "**3. revenue:**\n",
    "\n",
    "    - Descripción: ingresos del pedido.\n",
    "    - Tipo de datos: float64.\n",
    "\n",
    "**3. group:**\n",
    "\n",
    "    - Descripción: el grupo del test A/B al que pertenece el usuario.\n",
    "    - Tipo de datos: object."
   ]
  },
  {
   "cell_type": "code",
   "execution_count": 12,
   "metadata": {},
   "outputs": [
    {
     "data": {
      "text/html": [
       "<div>\n",
       "<style scoped>\n",
       "    .dataframe tbody tr th:only-of-type {\n",
       "        vertical-align: middle;\n",
       "    }\n",
       "\n",
       "    .dataframe tbody tr th {\n",
       "        vertical-align: top;\n",
       "    }\n",
       "\n",
       "    .dataframe thead th {\n",
       "        text-align: right;\n",
       "    }\n",
       "</style>\n",
       "<table border=\"1\" class=\"dataframe\">\n",
       "  <thead>\n",
       "    <tr style=\"text-align: right;\">\n",
       "      <th></th>\n",
       "      <th>transactionId</th>\n",
       "      <th>visitorId</th>\n",
       "      <th>date</th>\n",
       "      <th>revenue</th>\n",
       "      <th>group</th>\n",
       "    </tr>\n",
       "  </thead>\n",
       "  <tbody>\n",
       "    <tr>\n",
       "      <th>0</th>\n",
       "      <td>3667963787</td>\n",
       "      <td>3312258926</td>\n",
       "      <td>2019-08-15</td>\n",
       "      <td>30.4</td>\n",
       "      <td>B</td>\n",
       "    </tr>\n",
       "    <tr>\n",
       "      <th>1</th>\n",
       "      <td>2804400009</td>\n",
       "      <td>3642806036</td>\n",
       "      <td>2019-08-15</td>\n",
       "      <td>15.2</td>\n",
       "      <td>B</td>\n",
       "    </tr>\n",
       "    <tr>\n",
       "      <th>2</th>\n",
       "      <td>2961555356</td>\n",
       "      <td>4069496402</td>\n",
       "      <td>2019-08-15</td>\n",
       "      <td>10.2</td>\n",
       "      <td>A</td>\n",
       "    </tr>\n",
       "    <tr>\n",
       "      <th>3</th>\n",
       "      <td>3797467345</td>\n",
       "      <td>1196621759</td>\n",
       "      <td>2019-08-15</td>\n",
       "      <td>155.1</td>\n",
       "      <td>B</td>\n",
       "    </tr>\n",
       "    <tr>\n",
       "      <th>4</th>\n",
       "      <td>2282983706</td>\n",
       "      <td>2322279887</td>\n",
       "      <td>2019-08-15</td>\n",
       "      <td>40.5</td>\n",
       "      <td>B</td>\n",
       "    </tr>\n",
       "  </tbody>\n",
       "</table>\n",
       "</div>"
      ],
      "text/plain": [
       "   transactionId   visitorId        date  revenue group\n",
       "0     3667963787  3312258926  2019-08-15     30.4     B\n",
       "1     2804400009  3642806036  2019-08-15     15.2     B\n",
       "2     2961555356  4069496402  2019-08-15     10.2     A\n",
       "3     3797467345  1196621759  2019-08-15    155.1     B\n",
       "4     2282983706  2322279887  2019-08-15     40.5     B"
      ]
     },
     "execution_count": 12,
     "metadata": {},
     "output_type": "execute_result"
    }
   ],
   "source": [
    "# Visualizamos la tabla orders\n",
    "orders.head()"
   ]
  },
  {
   "cell_type": "markdown",
   "metadata": {},
   "source": [
    "**Dataset: visits.**\n",
    "\n",
    "El archivo de visitas presenta 62 entradas y 3 columnas:\n",
    "\n",
    "**1. date:**\n",
    "\n",
    "    - Descripción: la fecha.\n",
    "    - Tipo de datos: object.\n",
    "\n",
    "**2. group:**\n",
    "\n",
    "    - Descripción: grupo del test A/B.\n",
    "    - Tipo de datos: object.\n",
    "    \n",
    "**3. visits:**\n",
    "\n",
    "    - Descripción: número de visitas en la fecha especificada para el grupo de test A/B especificado.\n",
    "    - Tipo de datos: int64."
   ]
  },
  {
   "cell_type": "code",
   "execution_count": 13,
   "metadata": {},
   "outputs": [
    {
     "data": {
      "text/html": [
       "<div>\n",
       "<style scoped>\n",
       "    .dataframe tbody tr th:only-of-type {\n",
       "        vertical-align: middle;\n",
       "    }\n",
       "\n",
       "    .dataframe tbody tr th {\n",
       "        vertical-align: top;\n",
       "    }\n",
       "\n",
       "    .dataframe thead th {\n",
       "        text-align: right;\n",
       "    }\n",
       "</style>\n",
       "<table border=\"1\" class=\"dataframe\">\n",
       "  <thead>\n",
       "    <tr style=\"text-align: right;\">\n",
       "      <th></th>\n",
       "      <th>date</th>\n",
       "      <th>group</th>\n",
       "      <th>visits</th>\n",
       "    </tr>\n",
       "  </thead>\n",
       "  <tbody>\n",
       "    <tr>\n",
       "      <th>0</th>\n",
       "      <td>2019-08-01</td>\n",
       "      <td>A</td>\n",
       "      <td>719</td>\n",
       "    </tr>\n",
       "    <tr>\n",
       "      <th>1</th>\n",
       "      <td>2019-08-02</td>\n",
       "      <td>A</td>\n",
       "      <td>619</td>\n",
       "    </tr>\n",
       "    <tr>\n",
       "      <th>2</th>\n",
       "      <td>2019-08-03</td>\n",
       "      <td>A</td>\n",
       "      <td>507</td>\n",
       "    </tr>\n",
       "    <tr>\n",
       "      <th>3</th>\n",
       "      <td>2019-08-04</td>\n",
       "      <td>A</td>\n",
       "      <td>717</td>\n",
       "    </tr>\n",
       "    <tr>\n",
       "      <th>4</th>\n",
       "      <td>2019-08-05</td>\n",
       "      <td>A</td>\n",
       "      <td>756</td>\n",
       "    </tr>\n",
       "  </tbody>\n",
       "</table>\n",
       "</div>"
      ],
      "text/plain": [
       "         date group  visits\n",
       "0  2019-08-01     A     719\n",
       "1  2019-08-02     A     619\n",
       "2  2019-08-03     A     507\n",
       "3  2019-08-04     A     717\n",
       "4  2019-08-05     A     756"
      ]
     },
     "execution_count": 13,
     "metadata": {},
     "output_type": "execute_result"
    }
   ],
   "source": [
    "# Visualizamos la tabla visits\n",
    "visits.head()"
   ]
  },
  {
   "cell_type": "markdown",
   "metadata": {},
   "source": [
    "#### Conclusiones previas al preprocesamiento"
   ]
  },
  {
   "cell_type": "markdown",
   "metadata": {},
   "source": [
    "A partir de dos archivos csv hemos creado dos dataset: orders y visits. En ellos se encuentra la información recopilada de la prueba A/B.\n",
    "\n",
    "El primer dataset, orders, nos muestra la información de los pedidos realizados a la tienda. En 1197 registros de 5 columnas tenemos la descripción de:\n",
    "\n",
    "- Identificador del pedido\n",
    "- Identificador del usuario\n",
    "- Fecha\n",
    "- ingreso por pedido\n",
    "- El grupo de testeo A/B al que pertenece el usuario.\n",
    "\n",
    "El segundo dataset; visits, nos muestra el número de visitas, las fechas y grupo de testeo asociado. La información se entrega en 62 registros de 3 columnas:\n",
    "\n",
    "- Fecha\n",
    "- Grupo de testeo A/B\n",
    "- Cantidad de visitas\n",
    "\n",
    "\n",
    "**Respecto a los datos:**\n",
    "\n",
    "- No presentan valores ausentes.\n",
    "\n",
    "- Los tipos de datos son correctos para todas las columnas. Para aquellas que indican fecha, se pueden modificar a tipo datetime.\n",
    "\n",
    "- Al dataset \"orders\" se puede aplicar snake case a los nombres de las columnas para disminuir riesgos de errores al tratar datos.\n",
    "\n",
    "- Es necesario revisar si existen datos duplicados en cualquiera de los dos dataset.\n",
    "\n",
    "- **Es posible que existan errores con los usuarios; por ejemplo, algunos pueden haber entrado tanto en el grupo A como en el grupo B. Es necesario verificar este posible problema.**\n",
    "\n"
   ]
  },
  {
   "cell_type": "markdown",
   "metadata": {},
   "source": [
    "### Preprocesamiento de datos"
   ]
  },
  {
   "cell_type": "markdown",
   "metadata": {},
   "source": [
    "Resolveremos y ajustaremos las inquietudes que observamos con anterioridad. El preprocesamiento se llevará a cabo en este orden:\n",
    "\n",
    "    1. Verificación de duplicados\n",
    "    2. Aplicación de snake case para cambiar nombre a columnas.\n",
    "    3. Modificación de fechas a datetime.\n",
    "    4. Verificación de posible problema de usuarios y grupos de testeo."
   ]
  },
  {
   "cell_type": "markdown",
   "metadata": {},
   "source": [
    "#### Comprobación de duplicados"
   ]
  },
  {
   "cell_type": "code",
   "execution_count": 14,
   "metadata": {},
   "outputs": [
    {
     "data": {
      "text/plain": [
       "0"
      ]
     },
     "execution_count": 14,
     "metadata": {},
     "output_type": "execute_result"
    }
   ],
   "source": [
    "# Verificación de orders\n",
    "orders.duplicated().sum()"
   ]
  },
  {
   "cell_type": "code",
   "execution_count": 15,
   "metadata": {},
   "outputs": [
    {
     "data": {
      "text/plain": [
       "0"
      ]
     },
     "execution_count": 15,
     "metadata": {},
     "output_type": "execute_result"
    }
   ],
   "source": [
    "# Verificación de visits\n",
    "visits.duplicated().sum()"
   ]
  },
  {
   "cell_type": "markdown",
   "metadata": {},
   "source": [
    "No existen registros duplicados en los dataset involucrados."
   ]
  },
  {
   "cell_type": "markdown",
   "metadata": {},
   "source": [
    "#### Snake case a nombres de columnas"
   ]
  },
  {
   "cell_type": "markdown",
   "metadata": {},
   "source": [
    "El dataset a corregir corresponde a *orders*. Veamos los nombres de las columnas:"
   ]
  },
  {
   "cell_type": "code",
   "execution_count": 16,
   "metadata": {},
   "outputs": [
    {
     "data": {
      "text/plain": [
       "Index(['transactionId', 'visitorId', 'date', 'revenue', 'group'], dtype='object')"
      ]
     },
     "execution_count": 16,
     "metadata": {},
     "output_type": "execute_result"
    }
   ],
   "source": [
    "# Nombres de las columnas\n",
    "orders.columns"
   ]
  },
  {
   "cell_type": "markdown",
   "metadata": {},
   "source": [
    "Cambiaremos los nombres de transactionId y visitorId a minúsculas por completo."
   ]
  },
  {
   "cell_type": "code",
   "execution_count": 17,
   "metadata": {},
   "outputs": [],
   "source": [
    "# Cambio de nombres\n",
    "orders.columns = ['transactionid', 'visitorid', 'date', 'revenue', 'group']"
   ]
  },
  {
   "cell_type": "markdown",
   "metadata": {},
   "source": [
    "El dataset *visits* no necesita modificaciones."
   ]
  },
  {
   "cell_type": "markdown",
   "metadata": {},
   "source": [
    "#### Fechas a datetime"
   ]
  },
  {
   "cell_type": "markdown",
   "metadata": {},
   "source": [
    "En ambos dataset tenemos la columna *date* así que aplicaremos el método .strptime para crear objetos datetime."
   ]
  },
  {
   "cell_type": "code",
   "execution_count": 18,
   "metadata": {},
   "outputs": [],
   "source": [
    "# Date en orders\n",
    "orders['date'] = orders['date'].map(lambda x: dt.datetime.strptime(x, '%Y-%m-%d'))\n",
    "\n",
    "# Date en visits\n",
    "visits['date'] = visits['date'].map(lambda x: dt.datetime.strptime(x, '%Y-%m-%d'))"
   ]
  },
  {
   "cell_type": "markdown",
   "metadata": {},
   "source": [
    "#### Usuarios y grupos de testeo"
   ]
  },
  {
   "cell_type": "code",
   "execution_count": 19,
   "metadata": {},
   "outputs": [
    {
     "data": {
      "text/plain": [
       "58"
      ]
     },
     "execution_count": 19,
     "metadata": {},
     "output_type": "execute_result"
    }
   ],
   "source": [
    "# Agrupamos por usuarios y contamos si están en uno o los dos grupos\n",
    "visitors_group = orders.groupby(['visitorid']).agg({'group': 'nunique'})\n",
    "\n",
    "# Creamos un dataset con los visitantes que pertenecen a los grupos A y B\n",
    "dual_visitors = visitors_group.query('group == 2').reset_index()\n",
    "\n",
    "# Cantidad de visitantes en los dos grupos\n",
    "dual_visitors['visitorid'].count()"
   ]
  },
  {
   "cell_type": "code",
   "execution_count": 20,
   "metadata": {},
   "outputs": [
    {
     "data": {
      "text/plain": [
       "1031"
      ]
     },
     "execution_count": 20,
     "metadata": {},
     "output_type": "execute_result"
    }
   ],
   "source": [
    "# Cantidad de visitantes totales\n",
    "orders['visitorid'].nunique()"
   ]
  },
  {
   "cell_type": "markdown",
   "metadata": {},
   "source": [
    "**Existen 58 usuarios que pertenecen a ambos grupos de un total de 1031.** Estos usuarios **corresponden al 5%** aproximadamente del total. Los marginarémos creando un nuevo dataset solo con los que pertenecen a un grupo definido.\n",
    "\n",
    "Veamos todos los registros de ordenes para estos usuarios que pertenecen a los dos grupos:"
   ]
  },
  {
   "cell_type": "code",
   "execution_count": 21,
   "metadata": {},
   "outputs": [],
   "source": [
    "# Dejamos nuestra variable solo como una lista con los identificadores\n",
    "dual_visitors = dual_visitors['visitorid'].tolist()"
   ]
  },
  {
   "cell_type": "code",
   "execution_count": 22,
   "metadata": {
    "scrolled": true
   },
   "outputs": [
    {
     "data": {
      "text/html": [
       "<div>\n",
       "<style scoped>\n",
       "    .dataframe tbody tr th:only-of-type {\n",
       "        vertical-align: middle;\n",
       "    }\n",
       "\n",
       "    .dataframe tbody tr th {\n",
       "        vertical-align: top;\n",
       "    }\n",
       "\n",
       "    .dataframe thead th {\n",
       "        text-align: right;\n",
       "    }\n",
       "</style>\n",
       "<table border=\"1\" class=\"dataframe\">\n",
       "  <thead>\n",
       "    <tr style=\"text-align: right;\">\n",
       "      <th></th>\n",
       "      <th>transactionid</th>\n",
       "      <th>visitorid</th>\n",
       "      <th>date</th>\n",
       "      <th>revenue</th>\n",
       "      <th>group</th>\n",
       "    </tr>\n",
       "  </thead>\n",
       "  <tbody>\n",
       "    <tr>\n",
       "      <th>662</th>\n",
       "      <td>1811671147</td>\n",
       "      <td>4266935830</td>\n",
       "      <td>2019-08-29</td>\n",
       "      <td>1220.2</td>\n",
       "      <td>A</td>\n",
       "    </tr>\n",
       "    <tr>\n",
       "      <th>682</th>\n",
       "      <td>1216533772</td>\n",
       "      <td>4266935830</td>\n",
       "      <td>2019-08-29</td>\n",
       "      <td>1220.2</td>\n",
       "      <td>B</td>\n",
       "    </tr>\n",
       "    <tr>\n",
       "      <th>873</th>\n",
       "      <td>2519737434</td>\n",
       "      <td>4256040402</td>\n",
       "      <td>2019-08-08</td>\n",
       "      <td>900.7</td>\n",
       "      <td>B</td>\n",
       "    </tr>\n",
       "    <tr>\n",
       "      <th>187</th>\n",
       "      <td>2048878902</td>\n",
       "      <td>4256040402</td>\n",
       "      <td>2019-08-17</td>\n",
       "      <td>25.8</td>\n",
       "      <td>A</td>\n",
       "    </tr>\n",
       "    <tr>\n",
       "      <th>253</th>\n",
       "      <td>1610091760</td>\n",
       "      <td>4256040402</td>\n",
       "      <td>2019-08-23</td>\n",
       "      <td>265.8</td>\n",
       "      <td>A</td>\n",
       "    </tr>\n",
       "    <tr>\n",
       "      <th>...</th>\n",
       "      <td>...</td>\n",
       "      <td>...</td>\n",
       "      <td>...</td>\n",
       "      <td>...</td>\n",
       "      <td>...</td>\n",
       "    </tr>\n",
       "    <tr>\n",
       "      <th>1102</th>\n",
       "      <td>1941707234</td>\n",
       "      <td>199603092</td>\n",
       "      <td>2019-08-12</td>\n",
       "      <td>100.0</td>\n",
       "      <td>A</td>\n",
       "    </tr>\n",
       "    <tr>\n",
       "      <th>246</th>\n",
       "      <td>437656952</td>\n",
       "      <td>199603092</td>\n",
       "      <td>2019-08-02</td>\n",
       "      <td>55.7</td>\n",
       "      <td>B</td>\n",
       "    </tr>\n",
       "    <tr>\n",
       "      <th>134</th>\n",
       "      <td>62794304</td>\n",
       "      <td>199603092</td>\n",
       "      <td>2019-08-22</td>\n",
       "      <td>110.3</td>\n",
       "      <td>A</td>\n",
       "    </tr>\n",
       "    <tr>\n",
       "      <th>71</th>\n",
       "      <td>3679129301</td>\n",
       "      <td>8300375</td>\n",
       "      <td>2019-08-01</td>\n",
       "      <td>165.7</td>\n",
       "      <td>B</td>\n",
       "    </tr>\n",
       "    <tr>\n",
       "      <th>703</th>\n",
       "      <td>4293855558</td>\n",
       "      <td>8300375</td>\n",
       "      <td>2019-08-07</td>\n",
       "      <td>30.5</td>\n",
       "      <td>A</td>\n",
       "    </tr>\n",
       "  </tbody>\n",
       "</table>\n",
       "<p>181 rows × 5 columns</p>\n",
       "</div>"
      ],
      "text/plain": [
       "      transactionid   visitorid       date  revenue group\n",
       "662      1811671147  4266935830 2019-08-29   1220.2     A\n",
       "682      1216533772  4266935830 2019-08-29   1220.2     B\n",
       "873      2519737434  4256040402 2019-08-08    900.7     B\n",
       "187      2048878902  4256040402 2019-08-17     25.8     A\n",
       "253      1610091760  4256040402 2019-08-23    265.8     A\n",
       "...             ...         ...        ...      ...   ...\n",
       "1102     1941707234   199603092 2019-08-12    100.0     A\n",
       "246       437656952   199603092 2019-08-02     55.7     B\n",
       "134        62794304   199603092 2019-08-22    110.3     A\n",
       "71       3679129301     8300375 2019-08-01    165.7     B\n",
       "703      4293855558     8300375 2019-08-07     30.5     A\n",
       "\n",
       "[181 rows x 5 columns]"
      ]
     },
     "execution_count": 22,
     "metadata": {},
     "output_type": "execute_result"
    }
   ],
   "source": [
    "# Revisamos los registros para estos usuarios\n",
    "orders_dual_users = orders.query('visitorid == @dual_visitors').sort_values(by='visitorid', ascending= False)\n",
    "orders_dual_users"
   ]
  },
  {
   "cell_type": "markdown",
   "metadata": {},
   "source": [
    "**Tenemos 181 ordenes de estos 58 usuarios duales.** \n",
    "\n",
    "Hay que considerar que estos registros se consideran como visitas igualmente por lo que debería disminuír el número en este dataset de acuerdo a la fecha y grupo.\n",
    "\n",
    "Agrupemos las ordenes de acuerdo a estos parametros para ver la cantidad a disminuír:"
   ]
  },
  {
   "cell_type": "code",
   "execution_count": 23,
   "metadata": {
    "scrolled": true
   },
   "outputs": [
    {
     "data": {
      "text/html": [
       "<div>\n",
       "<style scoped>\n",
       "    .dataframe tbody tr th:only-of-type {\n",
       "        vertical-align: middle;\n",
       "    }\n",
       "\n",
       "    .dataframe tbody tr th {\n",
       "        vertical-align: top;\n",
       "    }\n",
       "\n",
       "    .dataframe thead th {\n",
       "        text-align: right;\n",
       "    }\n",
       "</style>\n",
       "<table border=\"1\" class=\"dataframe\">\n",
       "  <thead>\n",
       "    <tr style=\"text-align: right;\">\n",
       "      <th></th>\n",
       "      <th></th>\n",
       "      <th>visitorid</th>\n",
       "    </tr>\n",
       "    <tr>\n",
       "      <th>date</th>\n",
       "      <th>group</th>\n",
       "      <th></th>\n",
       "    </tr>\n",
       "  </thead>\n",
       "  <tbody>\n",
       "    <tr>\n",
       "      <th rowspan=\"2\" valign=\"top\">2019-08-01</th>\n",
       "      <th>A</th>\n",
       "      <td>1</td>\n",
       "    </tr>\n",
       "    <tr>\n",
       "      <th>B</th>\n",
       "      <td>4</td>\n",
       "    </tr>\n",
       "    <tr>\n",
       "      <th rowspan=\"2\" valign=\"top\">2019-08-02</th>\n",
       "      <th>A</th>\n",
       "      <td>1</td>\n",
       "    </tr>\n",
       "    <tr>\n",
       "      <th>B</th>\n",
       "      <td>1</td>\n",
       "    </tr>\n",
       "    <tr>\n",
       "      <th>2019-08-03</th>\n",
       "      <th>B</th>\n",
       "      <td>2</td>\n",
       "    </tr>\n",
       "    <tr>\n",
       "      <th rowspan=\"2\" valign=\"top\">2019-08-04</th>\n",
       "      <th>A</th>\n",
       "      <td>5</td>\n",
       "    </tr>\n",
       "    <tr>\n",
       "      <th>B</th>\n",
       "      <td>3</td>\n",
       "    </tr>\n",
       "    <tr>\n",
       "      <th rowspan=\"2\" valign=\"top\">2019-08-05</th>\n",
       "      <th>A</th>\n",
       "      <td>3</td>\n",
       "    </tr>\n",
       "    <tr>\n",
       "      <th>B</th>\n",
       "      <td>2</td>\n",
       "    </tr>\n",
       "    <tr>\n",
       "      <th>2019-08-06</th>\n",
       "      <th>A</th>\n",
       "      <td>3</td>\n",
       "    </tr>\n",
       "  </tbody>\n",
       "</table>\n",
       "</div>"
      ],
      "text/plain": [
       "                  visitorid\n",
       "date       group           \n",
       "2019-08-01 A              1\n",
       "           B              4\n",
       "2019-08-02 A              1\n",
       "           B              1\n",
       "2019-08-03 B              2\n",
       "2019-08-04 A              5\n",
       "           B              3\n",
       "2019-08-05 A              3\n",
       "           B              2\n",
       "2019-08-06 A              3"
      ]
     },
     "execution_count": 23,
     "metadata": {},
     "output_type": "execute_result"
    }
   ],
   "source": [
    "# Cantidad de ordenes por fecha y grupo de usuarios duales\n",
    "orders_count = orders_dual_users.groupby(['date', 'group']).agg({'visitorid': 'count'})\n",
    "orders_count.head(10)"
   ]
  },
  {
   "cell_type": "markdown",
   "metadata": {},
   "source": [
    "Disponemos de la tabla ordenada por fecha y grupos con la cantidad de visitas de estos usuarios duales en Agosto del año 2019. En total generamos 62 filas, tal como nuestro archivo *visits*. Vamos a ordenar *visits* tal cual esta tabla que creamos para efectuar la resta de las visitas."
   ]
  },
  {
   "cell_type": "code",
   "execution_count": 24,
   "metadata": {},
   "outputs": [
    {
     "data": {
      "text/html": [
       "<div>\n",
       "<style scoped>\n",
       "    .dataframe tbody tr th:only-of-type {\n",
       "        vertical-align: middle;\n",
       "    }\n",
       "\n",
       "    .dataframe tbody tr th {\n",
       "        vertical-align: top;\n",
       "    }\n",
       "\n",
       "    .dataframe thead th {\n",
       "        text-align: right;\n",
       "    }\n",
       "</style>\n",
       "<table border=\"1\" class=\"dataframe\">\n",
       "  <thead>\n",
       "    <tr style=\"text-align: right;\">\n",
       "      <th></th>\n",
       "      <th>date</th>\n",
       "      <th>group</th>\n",
       "      <th>visits</th>\n",
       "      <th>visits_updated</th>\n",
       "    </tr>\n",
       "  </thead>\n",
       "  <tbody>\n",
       "    <tr>\n",
       "      <th>0</th>\n",
       "      <td>2019-08-01</td>\n",
       "      <td>A</td>\n",
       "      <td>719</td>\n",
       "      <td>718.0</td>\n",
       "    </tr>\n",
       "    <tr>\n",
       "      <th>1</th>\n",
       "      <td>2019-08-01</td>\n",
       "      <td>B</td>\n",
       "      <td>713</td>\n",
       "      <td>709.0</td>\n",
       "    </tr>\n",
       "    <tr>\n",
       "      <th>2</th>\n",
       "      <td>2019-08-02</td>\n",
       "      <td>A</td>\n",
       "      <td>619</td>\n",
       "      <td>618.0</td>\n",
       "    </tr>\n",
       "    <tr>\n",
       "      <th>3</th>\n",
       "      <td>2019-08-02</td>\n",
       "      <td>B</td>\n",
       "      <td>581</td>\n",
       "      <td>580.0</td>\n",
       "    </tr>\n",
       "    <tr>\n",
       "      <th>4</th>\n",
       "      <td>2019-08-03</td>\n",
       "      <td>A</td>\n",
       "      <td>507</td>\n",
       "      <td>NaN</td>\n",
       "    </tr>\n",
       "  </tbody>\n",
       "</table>\n",
       "</div>"
      ],
      "text/plain": [
       "        date group  visits  visits_updated\n",
       "0 2019-08-01     A     719           718.0\n",
       "1 2019-08-01     B     713           709.0\n",
       "2 2019-08-02     A     619           618.0\n",
       "3 2019-08-02     B     581           580.0\n",
       "4 2019-08-03     A     507             NaN"
      ]
     },
     "execution_count": 24,
     "metadata": {},
     "output_type": "execute_result"
    }
   ],
   "source": [
    "# Agrupamos el dataset visits\n",
    "visits_updated = visits.groupby(['date', 'group']).agg({'visits': 'sum'})\n",
    "\n",
    "# Creamos una nueva columna para la cifra actualizada\n",
    "visits_updated['visits_updated'] = (visits_updated['visits'] - orders_count['visitorid'])\n",
    "\n",
    "# Reiniciamos índice\n",
    "visits_updated = visits_updated.reset_index()\n",
    "\n",
    "visits_updated.head()"
   ]
  },
  {
   "cell_type": "markdown",
   "metadata": {},
   "source": [
    "Producto de la resta, quedaron algunos valores ausentes ya que no habían ordenes de los usuarios duales para ciertas fechas. Para estos valores ausentes, dejaremos los valores de visits originales. Vemos cuales son esos ausentes:"
   ]
  },
  {
   "cell_type": "code",
   "execution_count": 25,
   "metadata": {},
   "outputs": [
    {
     "data": {
      "text/html": [
       "<div>\n",
       "<style scoped>\n",
       "    .dataframe tbody tr th:only-of-type {\n",
       "        vertical-align: middle;\n",
       "    }\n",
       "\n",
       "    .dataframe tbody tr th {\n",
       "        vertical-align: top;\n",
       "    }\n",
       "\n",
       "    .dataframe thead th {\n",
       "        text-align: right;\n",
       "    }\n",
       "</style>\n",
       "<table border=\"1\" class=\"dataframe\">\n",
       "  <thead>\n",
       "    <tr style=\"text-align: right;\">\n",
       "      <th></th>\n",
       "      <th>date</th>\n",
       "      <th>group</th>\n",
       "      <th>visits</th>\n",
       "      <th>visits_updated</th>\n",
       "    </tr>\n",
       "  </thead>\n",
       "  <tbody>\n",
       "    <tr>\n",
       "      <th>4</th>\n",
       "      <td>2019-08-03</td>\n",
       "      <td>A</td>\n",
       "      <td>507</td>\n",
       "      <td>NaN</td>\n",
       "    </tr>\n",
       "    <tr>\n",
       "      <th>24</th>\n",
       "      <td>2019-08-13</td>\n",
       "      <td>A</td>\n",
       "      <td>748</td>\n",
       "      <td>NaN</td>\n",
       "    </tr>\n",
       "    <tr>\n",
       "      <th>30</th>\n",
       "      <td>2019-08-16</td>\n",
       "      <td>A</td>\n",
       "      <td>361</td>\n",
       "      <td>NaN</td>\n",
       "    </tr>\n",
       "    <tr>\n",
       "      <th>37</th>\n",
       "      <td>2019-08-19</td>\n",
       "      <td>B</td>\n",
       "      <td>487</td>\n",
       "      <td>NaN</td>\n",
       "    </tr>\n",
       "    <tr>\n",
       "      <th>39</th>\n",
       "      <td>2019-08-20</td>\n",
       "      <td>B</td>\n",
       "      <td>560</td>\n",
       "      <td>NaN</td>\n",
       "    </tr>\n",
       "    <tr>\n",
       "      <th>50</th>\n",
       "      <td>2019-08-26</td>\n",
       "      <td>A</td>\n",
       "      <td>722</td>\n",
       "      <td>NaN</td>\n",
       "    </tr>\n",
       "  </tbody>\n",
       "</table>\n",
       "</div>"
      ],
      "text/plain": [
       "         date group  visits  visits_updated\n",
       "4  2019-08-03     A     507             NaN\n",
       "24 2019-08-13     A     748             NaN\n",
       "30 2019-08-16     A     361             NaN\n",
       "37 2019-08-19     B     487             NaN\n",
       "39 2019-08-20     B     560             NaN\n",
       "50 2019-08-26     A     722             NaN"
      ]
     },
     "execution_count": 25,
     "metadata": {},
     "output_type": "execute_result"
    }
   ],
   "source": [
    "# Valores ausentes detectados\n",
    "visits_updated[visits_updated.visits_updated.isnull()]"
   ]
  },
  {
   "cell_type": "code",
   "execution_count": 26,
   "metadata": {},
   "outputs": [
    {
     "data": {
      "text/html": [
       "<div>\n",
       "<style scoped>\n",
       "    .dataframe tbody tr th:only-of-type {\n",
       "        vertical-align: middle;\n",
       "    }\n",
       "\n",
       "    .dataframe tbody tr th {\n",
       "        vertical-align: top;\n",
       "    }\n",
       "\n",
       "    .dataframe thead th {\n",
       "        text-align: right;\n",
       "    }\n",
       "</style>\n",
       "<table border=\"1\" class=\"dataframe\">\n",
       "  <thead>\n",
       "    <tr style=\"text-align: right;\">\n",
       "      <th></th>\n",
       "      <th>date</th>\n",
       "      <th>group</th>\n",
       "      <th>visits</th>\n",
       "      <th>visits_updated</th>\n",
       "    </tr>\n",
       "  </thead>\n",
       "  <tbody>\n",
       "    <tr>\n",
       "      <th>0</th>\n",
       "      <td>2019-08-01</td>\n",
       "      <td>A</td>\n",
       "      <td>719</td>\n",
       "      <td>718</td>\n",
       "    </tr>\n",
       "    <tr>\n",
       "      <th>1</th>\n",
       "      <td>2019-08-01</td>\n",
       "      <td>B</td>\n",
       "      <td>713</td>\n",
       "      <td>709</td>\n",
       "    </tr>\n",
       "    <tr>\n",
       "      <th>2</th>\n",
       "      <td>2019-08-02</td>\n",
       "      <td>A</td>\n",
       "      <td>619</td>\n",
       "      <td>618</td>\n",
       "    </tr>\n",
       "    <tr>\n",
       "      <th>3</th>\n",
       "      <td>2019-08-02</td>\n",
       "      <td>B</td>\n",
       "      <td>581</td>\n",
       "      <td>580</td>\n",
       "    </tr>\n",
       "    <tr>\n",
       "      <th>4</th>\n",
       "      <td>2019-08-03</td>\n",
       "      <td>A</td>\n",
       "      <td>507</td>\n",
       "      <td>507</td>\n",
       "    </tr>\n",
       "    <tr>\n",
       "      <th>...</th>\n",
       "      <td>...</td>\n",
       "      <td>...</td>\n",
       "      <td>...</td>\n",
       "      <td>...</td>\n",
       "    </tr>\n",
       "    <tr>\n",
       "      <th>57</th>\n",
       "      <td>2019-08-29</td>\n",
       "      <td>B</td>\n",
       "      <td>531</td>\n",
       "      <td>526</td>\n",
       "    </tr>\n",
       "    <tr>\n",
       "      <th>58</th>\n",
       "      <td>2019-08-30</td>\n",
       "      <td>A</td>\n",
       "      <td>490</td>\n",
       "      <td>488</td>\n",
       "    </tr>\n",
       "    <tr>\n",
       "      <th>59</th>\n",
       "      <td>2019-08-30</td>\n",
       "      <td>B</td>\n",
       "      <td>490</td>\n",
       "      <td>487</td>\n",
       "    </tr>\n",
       "    <tr>\n",
       "      <th>60</th>\n",
       "      <td>2019-08-31</td>\n",
       "      <td>A</td>\n",
       "      <td>699</td>\n",
       "      <td>695</td>\n",
       "    </tr>\n",
       "    <tr>\n",
       "      <th>61</th>\n",
       "      <td>2019-08-31</td>\n",
       "      <td>B</td>\n",
       "      <td>718</td>\n",
       "      <td>715</td>\n",
       "    </tr>\n",
       "  </tbody>\n",
       "</table>\n",
       "<p>62 rows × 4 columns</p>\n",
       "</div>"
      ],
      "text/plain": [
       "         date group  visits  visits_updated\n",
       "0  2019-08-01     A     719             718\n",
       "1  2019-08-01     B     713             709\n",
       "2  2019-08-02     A     619             618\n",
       "3  2019-08-02     B     581             580\n",
       "4  2019-08-03     A     507             507\n",
       "..        ...   ...     ...             ...\n",
       "57 2019-08-29     B     531             526\n",
       "58 2019-08-30     A     490             488\n",
       "59 2019-08-30     B     490             487\n",
       "60 2019-08-31     A     699             695\n",
       "61 2019-08-31     B     718             715\n",
       "\n",
       "[62 rows x 4 columns]"
      ]
     },
     "execution_count": 26,
     "metadata": {},
     "output_type": "execute_result"
    }
   ],
   "source": [
    "# Asignamos los valores de visits\n",
    "for i in visits_updated[visits_updated.visits_updated.isnull()].index:\n",
    "    visits_updated.loc[i, 'visits_updated'] = visits_updated.loc[i, 'visits']\n",
    "    \n",
    "# Cambiamos a enteros\n",
    "visits_updated['visits_updated'] = visits_updated['visits_updated'].astype('int')\n",
    "\n",
    "# Mostramos la tabla\n",
    "visits_updated"
   ]
  },
  {
   "cell_type": "markdown",
   "metadata": {},
   "source": [
    "**Ya tenemos la tabla de visitas con una columna que tiene las cifras actualizadas. Ahora solo falta eliminar los registros de órdenes de los usuarios que pertenecen a ambos grupos.**"
   ]
  },
  {
   "cell_type": "code",
   "execution_count": 27,
   "metadata": {},
   "outputs": [
    {
     "data": {
      "text/html": [
       "<div>\n",
       "<style scoped>\n",
       "    .dataframe tbody tr th:only-of-type {\n",
       "        vertical-align: middle;\n",
       "    }\n",
       "\n",
       "    .dataframe tbody tr th {\n",
       "        vertical-align: top;\n",
       "    }\n",
       "\n",
       "    .dataframe thead th {\n",
       "        text-align: right;\n",
       "    }\n",
       "</style>\n",
       "<table border=\"1\" class=\"dataframe\">\n",
       "  <thead>\n",
       "    <tr style=\"text-align: right;\">\n",
       "      <th></th>\n",
       "      <th>transactionid</th>\n",
       "      <th>visitorid</th>\n",
       "      <th>date</th>\n",
       "      <th>revenue</th>\n",
       "      <th>group</th>\n",
       "    </tr>\n",
       "  </thead>\n",
       "  <tbody>\n",
       "    <tr>\n",
       "      <th>662</th>\n",
       "      <td>1811671147</td>\n",
       "      <td>4266935830</td>\n",
       "      <td>2019-08-29</td>\n",
       "      <td>1220.2</td>\n",
       "      <td>A</td>\n",
       "    </tr>\n",
       "    <tr>\n",
       "      <th>682</th>\n",
       "      <td>1216533772</td>\n",
       "      <td>4266935830</td>\n",
       "      <td>2019-08-29</td>\n",
       "      <td>1220.2</td>\n",
       "      <td>B</td>\n",
       "    </tr>\n",
       "    <tr>\n",
       "      <th>873</th>\n",
       "      <td>2519737434</td>\n",
       "      <td>4256040402</td>\n",
       "      <td>2019-08-08</td>\n",
       "      <td>900.7</td>\n",
       "      <td>B</td>\n",
       "    </tr>\n",
       "    <tr>\n",
       "      <th>187</th>\n",
       "      <td>2048878902</td>\n",
       "      <td>4256040402</td>\n",
       "      <td>2019-08-17</td>\n",
       "      <td>25.8</td>\n",
       "      <td>A</td>\n",
       "    </tr>\n",
       "    <tr>\n",
       "      <th>253</th>\n",
       "      <td>1610091760</td>\n",
       "      <td>4256040402</td>\n",
       "      <td>2019-08-23</td>\n",
       "      <td>265.8</td>\n",
       "      <td>A</td>\n",
       "    </tr>\n",
       "  </tbody>\n",
       "</table>\n",
       "</div>"
      ],
      "text/plain": [
       "     transactionid   visitorid       date  revenue group\n",
       "662     1811671147  4266935830 2019-08-29   1220.2     A\n",
       "682     1216533772  4266935830 2019-08-29   1220.2     B\n",
       "873     2519737434  4256040402 2019-08-08    900.7     B\n",
       "187     2048878902  4256040402 2019-08-17     25.8     A\n",
       "253     1610091760  4256040402 2019-08-23    265.8     A"
      ]
     },
     "execution_count": 27,
     "metadata": {},
     "output_type": "execute_result"
    }
   ],
   "source": [
    "# Dataframe con los registros de usuarios duales\n",
    "orders_dual_users.head()"
   ]
  },
  {
   "cell_type": "code",
   "execution_count": 28,
   "metadata": {},
   "outputs": [
    {
     "data": {
      "text/plain": [
       "181"
      ]
     },
     "execution_count": 28,
     "metadata": {},
     "output_type": "execute_result"
    }
   ],
   "source": [
    "# Almacenamos los índices de las filas a eliminar en una lista\n",
    "dual_users_index = orders_dual_users.index\n",
    "\n",
    "# Utilizamos el método drop para eliminar de orders esas filas\n",
    "orders_updated = orders.drop(dual_users_index, axis=0)\n",
    "\n",
    "# Reseteamos el índice\n",
    "orders_updated = orders_updated.reset_index(drop=True)\n",
    "\n",
    "# Confirmamos en cuanto disminuyeron los datos\n",
    "len(orders) - len(orders_updated)"
   ]
  },
  {
   "cell_type": "markdown",
   "metadata": {},
   "source": [
    "**Eliminamos correctamente los 181 registros que pertenecían a usuarios que están considerados tanto en el grupo A como B.**\n",
    "\n",
    "Ahora ya contamos con nuestro nuevos dataset *orders_updated* y *visits_updated* para trabajar en el análisis propiamente tal."
   ]
  },
  {
   "cell_type": "markdown",
   "metadata": {},
   "source": [
    "#### Conclusiones del preprocesamiento de datos"
   ]
  },
  {
   "cell_type": "markdown",
   "metadata": {},
   "source": [
    "- Los conjuntos no presentaron registros duplicados.\n",
    "- Se aplicó snake case a los nombres de columna de orders.\n",
    "- Se cambió el tipo de datos a las columnas asociadas a fechas.\n",
    "\n",
    "**Respecto a los errores de datos en orders:**\n",
    "\n",
    "- Se encontró a 58 usuarios que tienen presencia en ambos grupos de testeo.\n",
    "- Estos usuarios representan al menos el 5% del total y registran 181 órdenes en total.\n",
    "\n",
    "**Medidas de corrección:**\n",
    "\n",
    "- **Se crearon dos nuevos dataset actualizados en los que eliminamos los datos pertenecientes a estos usuarios.** Las nuevas características que presentan son:\n",
    "\n",
    "        - Las órdenes disminuyeron de 1197 a 1016, disminuyendo en 181 registros.\n",
    "        - La cantidad de visitas totales disminuyó en relación al grupo y fecha de las órdenes eliminadas."
   ]
  },
  {
   "cell_type": "markdown",
   "metadata": {},
   "source": [
    "### Análisis de datos"
   ]
  },
  {
   "cell_type": "markdown",
   "metadata": {},
   "source": [
    "Previo al análisis, plantearemos algunas interrogantes que serán resueltas en el desarrollo de este mismo. Estas preguntas estarán dirigidas a la información que poseemos en cada dataset y nos ayudarán a orientar nuestro aprendizaje y estudio del test A/B realizado.\n",
    "\n",
    "Un claro orden en el desarrollo de este análisis nos permitirá tomar una mejor decisión basada en los resultados de la prueba."
   ]
  },
  {
   "cell_type": "markdown",
   "metadata": {},
   "source": [
    "#### Planteamiento de interrogantes"
   ]
  },
  {
   "cell_type": "markdown",
   "metadata": {},
   "source": [
    "Es importante contextualizar la información que disponemos. Hasta el momento sabemos que:\n",
    "\n",
    "- Poseemos la información de visitas y órdenes para el periodo de Agosto del año 2019.\n",
    "- Contamos con el monto de cada transacción asociada a un cliente, grupo y fecha especifica.\n",
    "\n",
    "\n",
    "Teniendo en consideración que **el objetivo del test A/B es aumentar los ingresos de la tienda en línea**, nos hacemos las siguientes preguntas al respecto:\n",
    "\n",
    "- ¿Cómo va aumentando el ingreso para cada grupo durante el tiempo?\n",
    "- ¿Cuántos pedidos van realizando los usuarios de cada grupo durante el mes?\n",
    "- ¿Cuál es la proporción de pedidos y visitas para cada día?\n",
    "- ¿Cuántos pedidos realizan los usuarios en promedio? ¿En qué punto se podría considerar poco común el número de pedidos?\n",
    "- ¿Cuánto gastan los usuarios en promedio? ¿Cuáles serían los límites normales de gastos?\n",
    "- ¿Existe una significancia estadística para datos en bruto y filtrados de acuerdo a las distintas variables que se presentan?"
   ]
  },
  {
   "cell_type": "markdown",
   "metadata": {},
   "source": [
    "#### Orden de procesamiento del análisis"
   ]
  },
  {
   "cell_type": "markdown",
   "metadata": {},
   "source": [
    "Las preguntas planteadas previamente sirven de hilo conductor para desarrollar el análisis de los datos del testeo. A continuación, se detalla de forma numerada los pasos a seguir:\n",
    "\n",
    "    1. Ingreso acumulado por grupo.\n",
    "    2. Tamaño del pedido acumulado por grupo. \n",
    "    3. Diferencia relativa del tamaño de pedidos para B en comparación a A.\n",
    "    4. Tasa de conversión de la relación de pedidos y visitas.\n",
    "    5. Dispersión del número de pedidos de usuarios.\n",
    "    6. Dispersión de precios de los pedidos.\n",
    "    7. Significancia estadística para las diferencias en la conversión.\n",
    "    8. Significancia estadística para las diferencias en el tamaño promedio de los pedidos.\n",
    "    9. Criterios usados para datos anómalos.\n",
    "    10. Significancia estadística para las diferencias en la conversión con datos filtrados.\n",
    "    11. Significancia estadística para las diferencias en el tamaño promedio de los pedidos con datos filtrados.\n",
    "    12. Decisión en base a los resultados.\n"
   ]
  },
  {
   "cell_type": "markdown",
   "metadata": {},
   "source": [
    "#### Datos acumulados por grupo"
   ]
  },
  {
   "cell_type": "markdown",
   "metadata": {},
   "source": [
    "Realizaremos un seguimiento de los cambios de ingresos diarios desde inicios hasta el último día de agosto de 2019."
   ]
  },
  {
   "cell_type": "code",
   "execution_count": 29,
   "metadata": {},
   "outputs": [],
   "source": [
    "# Creamos una matriz con valores únicos de parejas fecha-grupo\n",
    "datesGroups = orders_updated[['date', 'group']].drop_duplicates()\n",
    "\n",
    "#Creamos una nueva variable para calcular las visitas acumuladas\n",
    "visitorsAggregated = datesGroups.apply(\n",
    "    lambda x: visits_updated[\n",
    "        np.logical_and(\n",
    "            visits_updated['date'] <= x['date'], visits_updated['group'] == x['group']\n",
    "        )\n",
    "    ].agg({'date': 'max', 'group': 'max', 'visits_updated': 'sum'}),\n",
    "    axis=1,\n",
    ").sort_values(by=['date', 'group'])\n",
    "\n",
    "\n",
    "#Creamos una nueva variable para calcular las órdenes acumuladas\n",
    "ordersAggregated = datesGroups.apply(\n",
    "    lambda x: orders_updated[\n",
    "        np.logical_and(\n",
    "            orders_updated['date'] <= x['date'], orders_updated['group'] == x['group']\n",
    "        )\n",
    "    ].agg(\n",
    "        { 'date': 'max',\n",
    "          'group': 'max',\n",
    "          'transactionid': pd.Series.nunique,\n",
    "          'visitorid': pd.Series.nunique,\n",
    "          'revenue': 'sum',\n",
    "        }\n",
    "    ),\n",
    "    axis=1,\n",
    ").sort_values(by=['date','group'])\n"
   ]
  },
  {
   "cell_type": "markdown",
   "metadata": {},
   "source": [
    "Ya tenemos dos tablas con nuestros valores acumulados: *visitorsAggregated y ordersAggregated*. Las fusionaremos en una nueva tabla a la que llamaremos *cumulativeData*."
   ]
  },
  {
   "cell_type": "code",
   "execution_count": 30,
   "metadata": {},
   "outputs": [
    {
     "data": {
      "text/html": [
       "<div>\n",
       "<style scoped>\n",
       "    .dataframe tbody tr th:only-of-type {\n",
       "        vertical-align: middle;\n",
       "    }\n",
       "\n",
       "    .dataframe tbody tr th {\n",
       "        vertical-align: top;\n",
       "    }\n",
       "\n",
       "    .dataframe thead th {\n",
       "        text-align: right;\n",
       "    }\n",
       "</style>\n",
       "<table border=\"1\" class=\"dataframe\">\n",
       "  <thead>\n",
       "    <tr style=\"text-align: right;\">\n",
       "      <th></th>\n",
       "      <th>date</th>\n",
       "      <th>group</th>\n",
       "      <th>orders</th>\n",
       "      <th>buyers</th>\n",
       "      <th>revenue</th>\n",
       "      <th>visitors</th>\n",
       "    </tr>\n",
       "  </thead>\n",
       "  <tbody>\n",
       "    <tr>\n",
       "      <th>0</th>\n",
       "      <td>2019-08-01</td>\n",
       "      <td>A</td>\n",
       "      <td>23</td>\n",
       "      <td>19</td>\n",
       "      <td>2266.6</td>\n",
       "      <td>718</td>\n",
       "    </tr>\n",
       "    <tr>\n",
       "      <th>1</th>\n",
       "      <td>2019-08-01</td>\n",
       "      <td>B</td>\n",
       "      <td>17</td>\n",
       "      <td>17</td>\n",
       "      <td>967.2</td>\n",
       "      <td>709</td>\n",
       "    </tr>\n",
       "    <tr>\n",
       "      <th>2</th>\n",
       "      <td>2019-08-02</td>\n",
       "      <td>A</td>\n",
       "      <td>42</td>\n",
       "      <td>36</td>\n",
       "      <td>3734.9</td>\n",
       "      <td>1336</td>\n",
       "    </tr>\n",
       "    <tr>\n",
       "      <th>3</th>\n",
       "      <td>2019-08-02</td>\n",
       "      <td>B</td>\n",
       "      <td>40</td>\n",
       "      <td>39</td>\n",
       "      <td>3535.3</td>\n",
       "      <td>1289</td>\n",
       "    </tr>\n",
       "    <tr>\n",
       "      <th>4</th>\n",
       "      <td>2019-08-03</td>\n",
       "      <td>A</td>\n",
       "      <td>66</td>\n",
       "      <td>60</td>\n",
       "      <td>5550.1</td>\n",
       "      <td>1843</td>\n",
       "    </tr>\n",
       "  </tbody>\n",
       "</table>\n",
       "</div>"
      ],
      "text/plain": [
       "        date group  orders  buyers  revenue  visitors\n",
       "0 2019-08-01     A      23      19   2266.6       718\n",
       "1 2019-08-01     B      17      17    967.2       709\n",
       "2 2019-08-02     A      42      36   3734.9      1336\n",
       "3 2019-08-02     B      40      39   3535.3      1289\n",
       "4 2019-08-03     A      66      60   5550.1      1843"
      ]
     },
     "execution_count": 30,
     "metadata": {},
     "output_type": "execute_result"
    }
   ],
   "source": [
    "# Fusionamos las tablas con el método merge\n",
    "cumulativeData = ordersAggregated.merge(visitorsAggregated, left_on=['date', 'group'], right_on=['date','group'])\n",
    "\n",
    "# Asignamos los nombres apropiados a las columnas\n",
    "cumulativeData.columns = [\n",
    "    'date',\n",
    "    'group',\n",
    "    'orders',\n",
    "    'buyers',\n",
    "    'revenue',\n",
    "    'visitors'\n",
    "]\n",
    "\n",
    "# Vemos como queda la tabla\n",
    "cumulativeData.head()"
   ]
  },
  {
   "cell_type": "markdown",
   "metadata": {},
   "source": [
    "Nuestra tabla ha quedado ordenada con los valores que necesitamos para analizar los grupos de acuerdo a sus valores acumulados. A continuación, analizaremos los ingresos acumulados por grupo."
   ]
  },
  {
   "cell_type": "markdown",
   "metadata": {},
   "source": [
    "#### Ingreso acumulado por grupo"
   ]
  },
  {
   "cell_type": "code",
   "execution_count": 31,
   "metadata": {
    "scrolled": true
   },
   "outputs": [
    {
     "data": {
      "text/plain": [
       "<matplotlib.legend.Legend at 0x7f8e8d7f4790>"
      ]
     },
     "execution_count": 31,
     "metadata": {},
     "output_type": "execute_result"
    },
    {
     "data": {
      "image/png": "[encoded data removed]",
      "text/plain": [
       "<Figure size 1080x360 with 1 Axes>"
      ]
     },
     "metadata": {
      "needs_background": "light"
     },
     "output_type": "display_data"
    }
   ],
   "source": [
    "# Dataframe de ingresos acumulados por día, grupo A\n",
    "cumulativeRevenueA = cumulativeData[cumulativeData['group'] == 'A'][['date','revenue','orders']]\n",
    "\n",
    "# Dataframe de ingresos acumulados por día, grupo B\n",
    "cumulativeRevenueB = cumulativeData[cumulativeData['group'] == 'B'][['date','revenue','orders']]\n",
    "\n",
    "\n",
    "# Graficamos cada grupo\n",
    "plt.figure(figsize=(15,5))\n",
    "plt.plot(cumulativeRevenueA['date'], cumulativeRevenueA['revenue'], label='Group A')\n",
    "plt.plot(cumulativeRevenueB['date'], cumulativeRevenueB['revenue'], label='Group B')\n",
    "plt.legend()\n",
    "\n"
   ]
  },
  {
   "cell_type": "markdown",
   "metadata": {},
   "source": [
    "**Conclusiones y conjeturas:**\n",
    "\n",
    "- Ambos grupos comuenzan de forma muy igualada hasta experimentar una diferencia el día 5 de agosto donde el grupo B pasa a la delantera.\n",
    "- El 13 de agosto, ante un aumento de los ingresos del grupo A, vuelven a estar igualados pero solo por muy poco ya que el grupo B experimenta un ascenso.\n",
    "- Si bien el crecimiento para ambos grupos era similar, después del 17 de agosto el grupo B tiene gran aumento para luego sostener el mismo nivel de crecimiento que el grupo A.\n",
    "\n",
    "**Al parecer algunos pedidos grandes posteriores al 17 de agosto afectaron los resultados. Los ingresos en general sostenían el mismo nivel de crecimiento pero el experimento se vio afectado por estas irrupciones atípicas. Analizaremos posteriormente estos pedidos de gran monto.**"
   ]
  },
  {
   "cell_type": "markdown",
   "metadata": {},
   "source": [
    "#### Tamaño del pedido acumulado por grupo"
   ]
  },
  {
   "cell_type": "markdown",
   "metadata": {},
   "source": [
    "Veamos gráficamente las diferencias de cantidad de pedidos por grupo:"
   ]
  },
  {
   "cell_type": "code",
   "execution_count": 32,
   "metadata": {
    "scrolled": true
   },
   "outputs": [
    {
     "data": {
      "text/plain": [
       "Text(0.5, 1.0, 'Tamaño del pedido acumulado por grupo')"
      ]
     },
     "execution_count": 32,
     "metadata": {},
     "output_type": "execute_result"
    },
    {
     "data": {
      "image/png": "[encoded data removed]",
      "text/plain": [
       "<Figure size 1080x288 with 1 Axes>"
      ]
     },
     "metadata": {
      "needs_background": "light"
     },
     "output_type": "display_data"
    }
   ],
   "source": [
    "# Graficamos cada grupo\n",
    "plt.figure(figsize=(15,4))\n",
    "plt.plot(cumulativeRevenueA['date'], cumulativeRevenueA['orders'], label='Group A')\n",
    "plt.plot(cumulativeRevenueB['date'], cumulativeRevenueB['orders'], label='Group B')\n",
    "plt.legend()\n",
    "\n",
    "# Título\n",
    "plt.title('Tamaño del pedido acumulado por grupo')"
   ]
  },
  {
   "cell_type": "markdown",
   "metadata": {},
   "source": [
    "**Conclusiones y conjeturas:**\n",
    "\n",
    "- Al igual que con el gráfico de ingresos, la cantidad de pedidos comienza muy igualada y solo luego del 7 de agosto se genera una diferencia que favorece al grupo B en cantidad de pedidos.\n",
    "- El crecimiento de B se va ampliando levemente pero se mantiene con una diferencia no muy lejana al grupo A.\n",
    "- El grupo A termina el experimento casi alcanzando los 500 pedidos mientras que el grupo B los supera.\n",
    "\n",
    "**La cantidad de pedidos no tiene cambios abruptos y los grupos mantienen una diferencia relativamente estable a través del tiempo.**"
   ]
  },
  {
   "cell_type": "markdown",
   "metadata": {},
   "source": [
    "#### Diferencia relativa del tamaño de pedidos para B en comparación a A"
   ]
  },
  {
   "cell_type": "markdown",
   "metadata": {},
   "source": [
    "Calcularemos el tamaño promedio de los pedidos (ingreso promedio) para establecer la diferencia relativa entre los grupos. Generaremos un gráfico a partir de esto para establecer sus diferencias."
   ]
  },
  {
   "cell_type": "code",
   "execution_count": 33,
   "metadata": {
    "scrolled": true
   },
   "outputs": [
    {
     "data": {
      "text/plain": [
       "Text(0.5, 1.0, 'Diferencias de ingresos por orden para grupos A y B')"
      ]
     },
     "execution_count": 33,
     "metadata": {},
     "output_type": "execute_result"
    },
    {
     "data": {
      "image/png": "[encoded data removed]",
      "text/plain": [
       "<Figure size 1080x288 with 1 Axes>"
      ]
     },
     "metadata": {
      "needs_background": "light"
     },
     "output_type": "display_data"
    }
   ],
   "source": [
    "# Ajustamos tamaño del gráfico\n",
    "plt.figure(figsize=(15,4))\n",
    "\n",
    "# Gráfico del grupo A\n",
    "plt.plot(\n",
    "    cumulativeRevenueA['date'], \n",
    "    cumulativeRevenueA['revenue'] / cumulativeRevenueA['orders'],\n",
    "    label='Group A',\n",
    ")\n",
    "\n",
    "# Gráfico del grupo B\n",
    "plt.plot(\n",
    "    cumulativeRevenueB['date'],\n",
    "    cumulativeRevenueB['revenue'] / cumulativeRevenueB['orders'],\n",
    "    label='Group B',\n",
    ")\n",
    "plt.legend()\n",
    "\n",
    "# Título\n",
    "plt.title('Diferencias de ingresos por orden para grupos A y B')"
   ]
  },
  {
   "cell_type": "markdown",
   "metadata": {},
   "source": [
    "**Conclusiones y conjeturas:**\n",
    "\n",
    "- El tamaño promedio de pedido para B comienza por debajo del valor de 60, mientras que para A en promedio es cercano a 100.\n",
    "- Luego del primer día, el grupo B experimenta un alza por lo que supera rápidamente al grupo A el que experimenta un descenso hasta el día 6 de agosto aproximadamente.\n",
    "- El grupo B tiene un fuerte aumento y logra superar los 100 en promedio desde el 7 de agosto aproximadamente. Luego se mantendría cercano a esa cifra hasta el día 14 aproximadamente donde experimentaría otro leve aumento.\n",
    "- Por otro lado, el grupo A experimenta un aumento desde el 6 de agosto hasta superar al grupo B para el día 12 de agosto aproximadamente, llegando a un peak el día 13 para después estabilizarse en torno a los 110 en promedio por pedido hasta fin de mes.\n",
    "- El grupo B, tiene un comportamiento peculiar en el que luego del 17 de agosto, se produce un incremento del promedio en que llega a alcanzar la cifra de 160 aproximadamente para después disminuir levementey mantenerse entre 150 y 140 hacia fin de mes.\n",
    "\n",
    "**El ingreso promedio acumulado por orden tiene variaciones hasta mediados de mes y luego vemos dos casos: para A se estabiliza en torno al valor de 110 mientras que para B se produce una alteración que lo lleva a tener un promedio cercano a 150 hasta fin de mes. Esta condición tendrá que ser analizada posteriormente.**"
   ]
  },
  {
   "cell_type": "markdown",
   "metadata": {},
   "source": [
    "Veamos ahora un gráfico de la diferencia relativa del grupo B comparado con el grupo A:\n"
   ]
  },
  {
   "cell_type": "code",
   "execution_count": 34,
   "metadata": {
    "scrolled": true
   },
   "outputs": [
    {
     "data": {
      "text/plain": [
       "Text(0.5, 1.0, 'Diferencia relativa de ingresos del grupo B con respecto al grupo A')"
      ]
     },
     "execution_count": 34,
     "metadata": {},
     "output_type": "execute_result"
    },
    {
     "data": {
      "image/png": "[encoded data removed]",
      "text/plain": [
       "<Figure size 1080x288 with 1 Axes>"
      ]
     },
     "metadata": {
      "needs_background": "light"
     },
     "output_type": "display_data"
    }
   ],
   "source": [
    "# Unimos las tablas cumulativeRenevueA con cumulativeRevenueB\n",
    "mergedCumulativeRevenue = cumulativeRevenueA.merge(\n",
    "    cumulativeRevenueB,\n",
    "    left_on='date',\n",
    "    right_on='date',\n",
    "    how='left',\n",
    "    suffixes=['A', 'B'],\n",
    ")\n",
    "\n",
    "\n",
    "# Ajustamos tamaño del gráfico\n",
    "plt.figure(figsize=(15,4))\n",
    "\n",
    "#Generamos el gráfico\n",
    "plt.plot(\n",
    "    mergedCumulativeRevenue['date'],\n",
    "    (mergedCumulativeRevenue['revenueB'] / mergedCumulativeRevenue['ordersB'])\n",
    "    / (\n",
    "        mergedCumulativeRevenue['revenueA']\n",
    "        / mergedCumulativeRevenue['ordersA']\n",
    "    )\n",
    "    - 1,\n",
    ")\n",
    "\n",
    "# Trazamos una línea punteada como eje X \n",
    "plt.axhline(y=0, color='black', linestyle='--')\n",
    "\n",
    "# Establecemos la escala de los ejes\n",
    "plt.axis([pd.to_datetime('2019-08-01'), pd.to_datetime('2019-08-31'), -0.6, 0.6])\n",
    "\n",
    "# Título\n",
    "plt.title('Diferencia relativa de ingresos del grupo B con respecto al grupo A')"
   ]
  },
  {
   "cell_type": "markdown",
   "metadata": {},
   "source": [
    "- El gráfico confirma las situaciones de cambios abruptos y deja aún más claro que existen valores atípícos que es necesario analizar. Anteriormente confirmamos el cambio radical  que se observa luego del 17 de agosto y mediante este gráfico también podemos observar que cercano al 7 de agosto igual corresponde a un cambio significativo que sería bueno revisar.\n",
    "\n",
    "- Los ingresos por orden del grupo B llegan a superar por un 40% a los del grupó A al finalizar la primera semana.\n",
    "\n",
    "- Al 13 de agosto disminuye un casi un 20% los ingresos por orden respecto a A, pero luego comienza a subir hasta igualar para el 17 de agosto.\n",
    "\n",
    "- A partir del 18 de agosto aproximadamente, el ingreso promedio de B es de un 50% más que A. Este valor va disminuyendo hasta alcanzar cifras de 30% mayores que A a fin de mes.\n"
   ]
  },
  {
   "cell_type": "markdown",
   "metadata": {},
   "source": [
    "#### Tasa de conversión de la relación de pedidos y visitas"
   ]
  },
  {
   "cell_type": "markdown",
   "metadata": {},
   "source": [
    "Dejamos de lado por un momento los ingresos por visita para calcular la relación entre la cantidad de pedidos por visitas en el sitio. Para esto calcularemos la tasa de conversión diaria, es decir, por cada cuántas visitas se generó un pedido cada día."
   ]
  },
  {
   "cell_type": "code",
   "execution_count": 35,
   "metadata": {
    "scrolled": true
   },
   "outputs": [
    {
     "name": "stdout",
     "output_type": "stream",
     "text": [
      "Valor de conversión máximo en el grupo A: 0.03581117742810635\n",
      "Valor de conversión máximo en el grupo B: 0.03169521370257724\n"
     ]
    }
   ],
   "source": [
    "# Agregamos la columna conversion a la tabla cumulativeData\n",
    "cumulativeData['conversion'] = (cumulativeData['orders'] / cumulativeData['visitors'])\n",
    "\n",
    "# Generamos dataframes para cada grupo\n",
    "cumulativeDataA = cumulativeData[cumulativeData['group'] == 'A']\n",
    "cumulativeDataB = cumulativeData[cumulativeData['group'] == 'B']\n",
    "\n",
    "# Vemos los valores de conversión máximos\n",
    "print('Valor de conversión máximo en el grupo A: ' + str(cumulativeDataA['conversion'].max()))\n",
    "print('Valor de conversión máximo en el grupo B: ' + str(cumulativeDataB['conversion'].max()))"
   ]
  },
  {
   "cell_type": "markdown",
   "metadata": {},
   "source": [
    "La máxima conversión la alcanza el grupo A con una relación de 0.035 pedidos por visitante.\n",
    "\n",
    "Para efectos del gráfico, fijaremos el límite máximo en 0.04."
   ]
  },
  {
   "cell_type": "code",
   "execution_count": 36,
   "metadata": {
    "scrolled": true
   },
   "outputs": [
    {
     "data": {
      "text/plain": [
       "Text(0.5, 1.0, 'Tasa de conversión acumulada para ambos grupos')"
      ]
     },
     "execution_count": 36,
     "metadata": {},
     "output_type": "execute_result"
    },
    {
     "data": {
      "image/png": "[encoded data removed]",
      "text/plain": [
       "<Figure size 1080x288 with 1 Axes>"
      ]
     },
     "metadata": {
      "needs_background": "light"
     },
     "output_type": "display_data"
    }
   ],
   "source": [
    "# Ajustamos tamaño del gráfico\n",
    "plt.figure(figsize=(15,4))\n",
    "\n",
    "# Trazamos los gráficos\n",
    "plt.plot(cumulativeDataA['date'], cumulativeDataA['conversion'], label=' Group A')\n",
    "plt.plot(cumulativeDataB['date'], cumulativeDataB['conversion'], label='Group B')\n",
    "plt.legend()\n",
    "\n",
    "# Establecemos la escala de los ejes\n",
    "plt.axis([pd.to_datetime('2019-08-01'), pd.to_datetime('2019-08-31'), 0, 0.04])\n",
    "\n",
    "# Título\n",
    "plt.title('Tasa de conversión acumulada para ambos grupos')"
   ]
  },
  {
   "cell_type": "markdown",
   "metadata": {},
   "source": [
    "**Conclusiones y conjeturas:**\n",
    "\n",
    "- Al inicio de la prueba, el grupo A tenía una tasa de conversión más alta alcanzando su máximo punto hacia el 3 de agosto aproximadamente.\n",
    "- Ambos grupos experimentan una leve baja pero es el grupo B quien consigue mejores resultados superando a A hacia el 6 de agosto aproximadamente.\n",
    "- B se estabiliza en torno al valor medio de conversión de 0.030 mientras que A tiene un leve decaimiento para estabilizarse en torno al 0.025.\n",
    "\n",
    "**La escala del gráfico nos deja claro que los valores absolutos de fluctuaciones entre el inicio y fin de la prueba no son muy altos.**\n",
    " - Para el grupo A de 3.2% a 2.7%\n",
    " - Para el grupo B de 2.5% a 3%"
   ]
  },
  {
   "cell_type": "markdown",
   "metadata": {},
   "source": [
    "Vamos a trazar ahora un gráfico de diferencia relativa para las tasas de conversión acumuladas:"
   ]
  },
  {
   "cell_type": "code",
   "execution_count": 37,
   "metadata": {
    "scrolled": true
   },
   "outputs": [
    {
     "data": {
      "text/plain": [
       "Text(0.5, 1.0, 'Diferencia relativa para la tasa de conversión del grupo B con respecto al grupo A')"
      ]
     },
     "execution_count": 37,
     "metadata": {},
     "output_type": "execute_result"
    },
    {
     "data": {
      "image/png": "[encoded data removed]",
      "text/plain": [
       "<Figure size 1080x288 with 1 Axes>"
      ]
     },
     "metadata": {
      "needs_background": "light"
     },
     "output_type": "display_data"
    }
   ],
   "source": [
    "# Unimos los datos acumulados de los grupos\n",
    "mergedCumulativeConversions = cumulativeDataA[['date', 'conversion']].merge(\n",
    "    cumulativeDataB[['date', 'conversion']],\n",
    "    left_on='date',\n",
    "    right_on='date',\n",
    "    how='left',\n",
    "    suffixes=['A', 'B'],\n",
    ")\n",
    "\n",
    "# Ajustamos tamaño del gráfico\n",
    "plt.figure(figsize=(15,4))\n",
    "\n",
    "# Trazamos los gráficos\n",
    "plt.plot(\n",
    "    mergedCumulativeConversions['date'],\n",
    "    mergedCumulativeConversions['conversionB']\n",
    "    / mergedCumulativeConversions['conversionA']\n",
    "    - 1,\n",
    ")\n",
    "\n",
    "# Establecemos líneas punteadas para el eje X y agregamos otra en Y= 0.2\n",
    "plt.axhline(y=0, color='black', linestyle='--')\n",
    "plt.axhline(y=0.2, color='grey', linestyle='--')\n",
    "\n",
    "#Escala de los ejes\n",
    "plt.axis([pd.to_datetime('2019-08-01'), pd.to_datetime('2019-08-31'), -0.4, 0.4])\n",
    "\n",
    "# Título\n",
    "plt.title('Diferencia relativa para la tasa de conversión del grupo B con respecto al grupo A')"
   ]
  },
  {
   "cell_type": "markdown",
   "metadata": {},
   "source": [
    "**Conclusiones y conjeturas:**\n",
    "\n",
    "- El grupo B comienza con más de un 20% menos de conversión que el grupo A. Logra igualar luego de un par de días pero vuelve a caer solo para superar a A luego de 6 o 7 días.\n",
    "\n",
    "- Luego de la primera semana de la prueba, el grupo B se consolida con una mejor conversión y se estabiliza casi en un 20% más que el grupo A.\n",
    "\n",
    "- El punto más alto de conversión respecto a A, lo alcanza a mediados de mes."
   ]
  },
  {
   "cell_type": "markdown",
   "metadata": {},
   "source": [
    "De acuerdo a lo explorado hasta el momento, es posible que existan valores atípicos o anomalías que puedan distorsionar nuestros resultados. Para esto, vamos a identificar estos valores atípicos en el número de pedidos y en el precio de estos mismos."
   ]
  },
  {
   "cell_type": "markdown",
   "metadata": {},
   "source": [
    "#### Dispersión del número de pedidos por usuario."
   ]
  },
  {
   "cell_type": "markdown",
   "metadata": {},
   "source": [
    "Vamos a crear una tabla con la cantidad de ordenes por usuario:"
   ]
  },
  {
   "cell_type": "code",
   "execution_count": 38,
   "metadata": {
    "scrolled": true
   },
   "outputs": [],
   "source": [
    "# Creamos un nuevo dataset\n",
    "ordersByUsers = (\n",
    "    orders_updated.drop(['group','revenue','date'], axis=1)\n",
    "    .groupby('visitorid', as_index=False)\n",
    "    .agg({'transactionid': pd.Series.nunique})\n",
    ")\n",
    "\n",
    "# Renombramos las columnas\n",
    "ordersByUsers.columns = ['userid', 'orders']\n"
   ]
  },
  {
   "cell_type": "markdown",
   "metadata": {},
   "source": [
    "Veamos un histograma de distribución de la cantidad de pedidos:"
   ]
  },
  {
   "cell_type": "code",
   "execution_count": 39,
   "metadata": {
    "scrolled": true
   },
   "outputs": [
    {
     "data": {
      "text/plain": [
       "Text(0.5, 1.0, 'Distribución de cantidad de pedidos')"
      ]
     },
     "execution_count": 39,
     "metadata": {},
     "output_type": "execute_result"
    },
    {
     "data": {
      "image/png": "[encoded data removed]",
      "text/plain": [
       "<Figure size 432x288 with 1 Axes>"
      ]
     },
     "metadata": {
      "needs_background": "light"
     },
     "output_type": "display_data"
    }
   ],
   "source": [
    "# Graficamos histograma\n",
    "plt.hist(ordersByUsers['orders'])\n",
    "\n",
    "# Título\n",
    "plt.title('Distribución de cantidad de pedidos')"
   ]
  },
  {
   "cell_type": "markdown",
   "metadata": {},
   "source": [
    "**Efectivamente, la cantidad de 2 y 3 pedidos parece ser algo bastante atípico.**\n",
    "\n",
    "Veamos otro gráfico para aclarar la cantidad de usuarios que corresponde a estos pedidos."
   ]
  },
  {
   "cell_type": "code",
   "execution_count": 40,
   "metadata": {
    "scrolled": true
   },
   "outputs": [
    {
     "data": {
      "text/plain": [
       "<matplotlib.collections.PathCollection at 0x7f8e851342b0>"
      ]
     },
     "execution_count": 40,
     "metadata": {},
     "output_type": "execute_result"
    },
    {
     "data": {
      "image/png": "[encoded data removed]",
      "text/plain": [
       "<Figure size 432x288 with 1 Axes>"
      ]
     },
     "metadata": {
      "needs_background": "light"
     },
     "output_type": "display_data"
    }
   ],
   "source": [
    "# Rango de números desde 0 hasta el número de observaciones en ordersByUsers\n",
    "x_values = pd.Series(range(0,len(ordersByUsers)))\n",
    "plt.scatter(x_values, ordersByUsers['orders'])"
   ]
  },
  {
   "cell_type": "markdown",
   "metadata": {},
   "source": [
    "Solo tenemos 7 usuarios que realizaron 3 pedidos y los que realizan dos pueden ser el doble aproximadamente. De acuerdo a estos resultados, que un usuario realice 2 o 3 pedidos podría considerarse atípico.\n",
    "\n",
    "Veamos a qué percentil corresponden esta cantidad de usuarios, ya que al estar entre el 5% más extremo, podríamos considerar eliminarlos."
   ]
  },
  {
   "cell_type": "markdown",
   "metadata": {},
   "source": [
    "**Cálculo de percentiles para el número de pedidos por usuario:**\n",
    "\n",
    "Calcularemos los percentiles 90, 95 y 99 para ver a partir de qué valor podríamos considerar los valores extremos."
   ]
  },
  {
   "cell_type": "code",
   "execution_count": 41,
   "metadata": {},
   "outputs": [
    {
     "data": {
      "text/plain": [
       "array([1., 1., 2.])"
      ]
     },
     "execution_count": 41,
     "metadata": {},
     "output_type": "execute_result"
    }
   ],
   "source": [
    "# Cálculo de percentiles\n",
    "np.percentile(ordersByUsers['orders'], [90, 95, 99])"
   ]
  },
  {
   "cell_type": "markdown",
   "metadata": {},
   "source": [
    "**El resultado es claro. No más del 1% realizó más de dos pedidos, por lo tanto, los usuarios que realizaron 2 o 3 pedidos son consideradas anomalías.**"
   ]
  },
  {
   "cell_type": "markdown",
   "metadata": {},
   "source": [
    "#### Dispersión del precio de los pedidos"
   ]
  },
  {
   "cell_type": "markdown",
   "metadata": {},
   "source": [
    "Veamos la distribución de los precios a través de un histograma:"
   ]
  },
  {
   "cell_type": "code",
   "execution_count": 42,
   "metadata": {
    "scrolled": true
   },
   "outputs": [
    {
     "data": {
      "text/plain": [
       "Text(0.5, 1.0, 'Distribución de precios de los pedidos')"
      ]
     },
     "execution_count": 42,
     "metadata": {},
     "output_type": "execute_result"
    },
    {
     "data": {
      "image/png": "[encoded data removed]",
      "text/plain": [
       "<Figure size 432x288 with 1 Axes>"
      ]
     },
     "metadata": {
      "needs_background": "light"
     },
     "output_type": "display_data"
    }
   ],
   "source": [
    "# Graficamos histograma\n",
    "plt.hist(orders_updated['revenue'])\n",
    "\n",
    "# Título\n",
    "plt.title('Distribución de precios de los pedidos')"
   ]
  },
  {
   "cell_type": "markdown",
   "metadata": {},
   "source": [
    "La mayoría de los pedidos tiene un monto bajo los 2500. Probemos con otro gráfico para ver con mayor claridad."
   ]
  },
  {
   "cell_type": "code",
   "execution_count": 43,
   "metadata": {
    "scrolled": true
   },
   "outputs": [
    {
     "data": {
      "text/plain": [
       "<matplotlib.collections.PathCollection at 0x7f8e85076d90>"
      ]
     },
     "execution_count": 43,
     "metadata": {},
     "output_type": "execute_result"
    },
    {
     "data": {
      "image/png": "[encoded data removed]",
      "text/plain": [
       "<Figure size 432x288 with 1 Axes>"
      ]
     },
     "metadata": {
      "needs_background": "light"
     },
     "output_type": "display_data"
    }
   ],
   "source": [
    "# Rango de números desde 0 hasta el número de observaciones en orders_updated\n",
    "x_values = pd.Series(range(0,len(orders_updated['revenue'])))\n",
    "plt.scatter(x_values, orders_updated['revenue'])"
   ]
  },
  {
   "cell_type": "markdown",
   "metadata": {},
   "source": [
    "Existen dos pedidos sobre el valor de 2500, uno cercano a este valor y otro que alcanza los 20000. Definitivamente este último es un valor anómalo que afecta a nuestros datos.\n",
    "\n",
    "Calculamos los percentiles para determinar desde qué valor podemos considerarlos atípicos."
   ]
  },
  {
   "cell_type": "markdown",
   "metadata": {},
   "source": [
    "**Cálculo de percentiles para el monto de ingreso por pedido:**\n",
    "\n",
    "Calculamos los percentiles 90, 95 y 99 para establecer los montos de ingresos que pueden considerarse como anómalos."
   ]
  },
  {
   "cell_type": "code",
   "execution_count": 44,
   "metadata": {},
   "outputs": [
    {
     "data": {
      "text/plain": [
       "array([280.8  , 414.275, 830.3  ])"
      ]
     },
     "execution_count": 44,
     "metadata": {},
     "output_type": "execute_result"
    }
   ],
   "source": [
    "# Cálculo de percentiles\n",
    "np.percentile(orders_updated['revenue'], [90, 95, 99])"
   ]
  },
  {
   "cell_type": "markdown",
   "metadata": {},
   "source": [
    "Los percentiles nos muestran datos interesantes a considerar:\n",
    "\n",
    "**- No más del 5% de usuarios realizaron pedidos que costaron más de 415.**\n",
    "\n",
    "**- No más del 1% de usuarios realizaron pedidos más caros que 830.**"
   ]
  },
  {
   "cell_type": "markdown",
   "metadata": {},
   "source": [
    "Ya encontramos los valores atípicos tanto para el número de pedidos como para el monto de estos mismos, por lo tanto, ahora vamos a buscar la significancia estadística de las diferencias en la tasa de conversión y el tamaño de los pedidos entre los grupos utilizando los datos \"sin procesar\", es decir, antes de eliminar las anomalías que detectamos."
   ]
  },
  {
   "cell_type": "markdown",
   "metadata": {},
   "source": [
    "#### Significancia estadística para las diferencias en la conversión"
   ]
  },
  {
   "cell_type": "markdown",
   "metadata": {},
   "source": [
    "Con anterioridad creamos la variable \"ordersByUsers\" para calcular el número de órdenes por usuario; ahora haremos lo mismo pero separado en grupos A y B."
   ]
  },
  {
   "cell_type": "code",
   "execution_count": 45,
   "metadata": {},
   "outputs": [],
   "source": [
    "# órdenes para usuarios del grupo A\n",
    "ordersByUsersA = (\n",
    "    orders_updated[orders_updated['group'] == 'A']\n",
    "    .groupby('visitorid', as_index=False)\n",
    "    .agg({'transactionid': pd.Series.nunique})\n",
    ")\n",
    "\n",
    "# Cambiamos los nombres de las columnas\n",
    "ordersByUsersA.columns = ['userId', 'orders']\n",
    "\n",
    "# órdenes para usuarios del grupo B\n",
    "ordersByUsersB = (\n",
    "    orders_updated[orders_updated['group'] == 'B']\n",
    "    .groupby('visitorid', as_index=False)\n",
    "    .agg({'transactionid': pd.Series.nunique})\n",
    ")\n",
    "\n",
    "# Cambiamos los nombres de las columnas\n",
    "ordersByUsersB.columns = ['userId', 'orders']"
   ]
  },
  {
   "cell_type": "markdown",
   "metadata": {},
   "source": [
    "Ahora, preparamos las muestras para la prueba de Mann-Whitney.\n",
    "\n",
    "En esta prueba, clasificaremos dos muestras en orden ascendente para comparar los rangos de valores que aparecen en ambas muestras (posición en la que aparecen). Si las diferencias entre sus rangos son las mismas de una a otra muestra, el cambio será *típico* (se agregaron valores lo que provoca que el resto cambie). De resultar un cambio *no típico*, se trataría de un cambio real. La diferencia de estos rangos se establece como valor del criterio, y mientras mayor sea este valor, mayor será la probabilidad de que las distribuciones difieran. "
   ]
  },
  {
   "cell_type": "code",
   "execution_count": 46,
   "metadata": {},
   "outputs": [],
   "source": [
    "# Declaramos las muestras como sampleA y sampleB con usuarios de diferentes grupos y sus nros de pedidos correspondientes\n",
    "sampleA = pd.concat(\n",
    "    [\n",
    "        ordersByUsersA['orders'],\n",
    "        pd.Series(\n",
    "            0,\n",
    "            index=np.arange(\n",
    "                visits_updated[visits_updated['group'] == 'A']['visits_updated'].sum()\n",
    "                - len(ordersByUsersA['orders'])\n",
    "            ),\n",
    "            name='orders',\n",
    "        ),\n",
    "    ],\n",
    "    axis=0,\n",
    ")\n",
    "    \n",
    "sampleB = pd.concat(\n",
    "    [\n",
    "        ordersByUsersB['orders'],\n",
    "        pd.Series(\n",
    "            0,\n",
    "            index=np.arange(\n",
    "                visits_updated[visits_updated['group'] == 'B']['visits_updated'].sum()\n",
    "                - len(ordersByUsersB['orders'])\n",
    "            ),\n",
    "            name='orders',\n",
    "        ),\n",
    "    ],\n",
    "    axis=0,\n",
    ")"
   ]
  },
  {
   "cell_type": "markdown",
   "metadata": {},
   "source": [
    "Vamos a obtener la significancia estadística de la diferencia en la conversión basada en los resultados después de un mes de prueba. Mostrarémos el valor p redondeado a 5 decimales para comparar la conversión de los grupos:"
   ]
  },
  {
   "cell_type": "code",
   "execution_count": 47,
   "metadata": {},
   "outputs": [
    {
     "data": {
      "text/plain": [
       "'0.01096'"
      ]
     },
     "execution_count": 47,
     "metadata": {},
     "output_type": "execute_result"
    }
   ],
   "source": [
    "# Prueba de Mann-whitney\n",
    "'{0:.5f}'.format(stats.mannwhitneyu(sampleA, sampleB)[1])"
   ]
  },
  {
   "cell_type": "markdown",
   "metadata": {},
   "source": [
    "*Consideramos nuestro nivel de significancia en 0.05*\n",
    "\n",
    "**De acuerdo a la prueba de Mann-Whitney, tenemos de resultado el valor de: 0.01096.**\n",
    "\n",
    "- El valor p de la prueba es inferior a nuestro nivel de significancia (0.05) por lo que rechazamos la hipótesis nula.\n",
    "- El análisis de los datos sin procesar demuestra que las tasas de conversión de los grupos tienen diferencias estadísticamente significativas"
   ]
  },
  {
   "cell_type": "markdown",
   "metadata": {},
   "source": [
    "Calculemos la diferencia relativa en la conversión entre estos grupos:"
   ]
  },
  {
   "cell_type": "code",
   "execution_count": 48,
   "metadata": {},
   "outputs": [
    {
     "data": {
      "text/plain": [
       "'0.160'"
      ]
     },
     "execution_count": 48,
     "metadata": {},
     "output_type": "execute_result"
    }
   ],
   "source": [
    "# Diferencia relativa redondeada a tres decimales\n",
    "'{0:.3f}'.format(sampleB.mean() / sampleA.mean() - 1)"
   ]
  },
  {
   "cell_type": "markdown",
   "metadata": {},
   "source": [
    "- **Existe una ganancia de conversión relativa del grupo B en comparación al grupo A del 16%.** Lo que indica que si existen diferencias considerables entre los grupos.\n"
   ]
  },
  {
   "cell_type": "markdown",
   "metadata": {},
   "source": [
    "Ahora, pasamos a analizar los tamaños promedio de los pedidos de los datos sin procesar para luego comparar estas métricas con los valores atípicos eliminados."
   ]
  },
  {
   "cell_type": "markdown",
   "metadata": {},
   "source": [
    "#### Significancia estadística para las diferencias en el tamaño promedio de los pedidos"
   ]
  },
  {
   "cell_type": "markdown",
   "metadata": {},
   "source": [
    "Procedemos a realizar los cálculos para la prueba Mann-Whitney:"
   ]
  },
  {
   "cell_type": "code",
   "execution_count": 49,
   "metadata": {},
   "outputs": [
    {
     "data": {
      "text/plain": [
       "'0.862'"
      ]
     },
     "execution_count": 49,
     "metadata": {},
     "output_type": "execute_result"
    }
   ],
   "source": [
    "# Prueba con 3 decimales\n",
    "'{0:.3f}'.format(\n",
    "    stats.mannwhitneyu(\n",
    "        orders_updated[orders_updated['group'] == 'A']['revenue'],\n",
    "        orders_updated[orders_updated['group'] == 'B']['revenue'],\n",
    "    )[1]\n",
    ")"
   ]
  },
  {
   "cell_type": "markdown",
   "metadata": {},
   "source": [
    "*Consideramos nuestro nivel de significancia en 0.05*\n",
    "\n",
    "**De acuerdo a la prueba de Mann-Whitney, nuestro valor p es: 0.862**\n",
    "\n",
    "- El valor p es muy superior al nivel de significancia, por lo tanto, no existen diferencias estadísticamente significativas entre los tamaños de pedido promedio de los grupos.\n",
    "\n",
    "Veamos si existe una diferencia relativa significativa:"
   ]
  },
  {
   "cell_type": "code",
   "execution_count": 50,
   "metadata": {},
   "outputs": [
    {
     "data": {
      "text/plain": [
       "'0.278'"
      ]
     },
     "execution_count": 50,
     "metadata": {},
     "output_type": "execute_result"
    }
   ],
   "source": [
    "# Diferencia relativa redondeada a 3 decimales\n",
    "'{0:.3f}'.format(\n",
    "    orders_updated[orders_updated['group'] == 'B']['revenue'].mean()\n",
    "    / orders_updated[orders_updated['group'] == 'A']['revenue'].mean()\n",
    "    - 1\n",
    ")"
   ]
  },
  {
   "cell_type": "markdown",
   "metadata": {},
   "source": [
    "Si bien no existen diferencias estadísticamente significaticas de acuerdo a la prueba de Mann-Whitney, **la diferencia relativa de sus medias es de un 27,8%** lo cual es una cifra bastante alta; lo que indica claramente que existen valores que elevan bastante la media del grupo B respecto al grupo A."
   ]
  },
  {
   "cell_type": "markdown",
   "metadata": {},
   "source": [
    "Ahora, vamos a eliminar las anomalías de nuestros datos en base a las conclusiones de las pruebas recientes."
   ]
  },
  {
   "cell_type": "markdown",
   "metadata": {},
   "source": [
    "#### Criterios usados para datos anómalos"
   ]
  },
  {
   "cell_type": "markdown",
   "metadata": {},
   "source": [
    "Anteriormente realizamos el cálculo de percentiles para el tamaño promedio de los pedidos y para la cantidad de pedidos por usuario. Recordamos los datos obtenidos para los percentiles 95 y 99 ya que consideramos que el 5% más extremo se encuentra en los datos a eliminar:\n",
    "\n",
    "**Tamaño de pedido promedio**\n",
    "- Percentil 95: Mayor o igual a 415\n",
    "- Percentil 99: Mayor o igual a 830\n",
    "\n",
    "**Número de pedidos de usuarios**\n",
    "- Percentil 95: Mayor o igual a 1\n",
    "- Percentil 99: Mayor o igual a 2\n",
    "\n",
    "\n",
    "De acuerdo a estos valores, definimos los datos anómalos de la siguiente manera:\n",
    "\n",
    "**Consideramos como usuarios anómalos a aquellos que realizaron 2 o más pedidos o quienes realizaron uno de un valor de más de 500.** Con estas medidas estaremos eliminando el 1% de usuarios con más pedidos y entre el 1% y 5%  de los pedidos más caros."
   ]
  },
  {
   "cell_type": "markdown",
   "metadata": {},
   "source": [
    "Crearemos slices de datos para usuarios con 2 o más pedidos y usuarios con pedidos de más de 500. Luego uniremos estos datos para crear una tabla de usuarios anómalos."
   ]
  },
  {
   "cell_type": "code",
   "execution_count": 51,
   "metadata": {},
   "outputs": [
    {
     "data": {
      "text/plain": [
       "(72,)"
      ]
     },
     "execution_count": 51,
     "metadata": {},
     "output_type": "execute_result"
    }
   ],
   "source": [
    "# Usuarios con 2 o más pedidos\n",
    "usersWithManyOrders = pd.concat(\n",
    "    [\n",
    "        ordersByUsersA[ordersByUsersA['orders'] > 1]['userId'],\n",
    "        ordersByUsersB[ordersByUsersB['orders'] > 1]['userId'],\n",
    "    ],\n",
    "    axis=0,\n",
    ")\n",
    "\n",
    "# Usuarios con pedidos de un valor mayor a 500\n",
    "usersWithExpensiveOrders = orders_updated[orders_updated['revenue'] > 500]['visitorid']\n",
    "\n",
    "# Tabla con usuarios anómalos\n",
    "abnormalUsers = (\n",
    "    pd.concat([usersWithManyOrders, usersWithExpensiveOrders], axis=0)\n",
    "    .drop_duplicates()\n",
    "    .sort_values()\n",
    ")\n",
    "\n",
    "# Mostramos la cantidad de usuarios en la lista\n",
    "abnormalUsers.shape"
   ]
  },
  {
   "cell_type": "markdown",
   "metadata": {},
   "source": [
    "**Existen 72 usuarios que tienen valores anómalos.**"
   ]
  },
  {
   "cell_type": "markdown",
   "metadata": {},
   "source": [
    "#### Significancia estadística para las diferencias en la conversión con datos filtrados"
   ]
  },
  {
   "cell_type": "markdown",
   "metadata": {},
   "source": [
    "Vamos a crear variables para los datos filtrados:"
   ]
  },
  {
   "cell_type": "code",
   "execution_count": 52,
   "metadata": {},
   "outputs": [],
   "source": [
    "# Muestra de grupo A filtrada\n",
    "sampleAFiltered = pd.concat(\n",
    "    [\n",
    "        ordersByUsersA[\n",
    "            np.logical_not(ordersByUsersA['userId'].isin(abnormalUsers))\n",
    "        ]['orders'],\n",
    "        pd.Series(\n",
    "            0,\n",
    "            index=np.arange(\n",
    "                visits_updated[visits_updated['group'] == 'A']['visits_updated'].sum()\n",
    "                - len(ordersByUsersA['orders'])\n",
    "            ),\n",
    "            name='orders',\n",
    "        ),\n",
    "    ],\n",
    "    axis=0,\n",
    ")\n",
    "\n",
    "# Muestra de grupo B filtrada\n",
    "sampleBFiltered = pd.concat(\n",
    "    [\n",
    "        ordersByUsersB[\n",
    "            np.logical_not(ordersByUsersB['userId'].isin(abnormalUsers))\n",
    "        ]['orders'],\n",
    "        pd.Series(\n",
    "            0,\n",
    "            index=np.arange(\n",
    "                visits_updated[visits_updated['group'] == 'B']['visits_updated'].sum()\n",
    "                - len(ordersByUsersB['orders'])\n",
    "            ),\n",
    "            name='orders',\n",
    "        ),\n",
    "    ],\n",
    "    axis=0,\n",
    ")"
   ]
  },
  {
   "cell_type": "markdown",
   "metadata": {},
   "source": [
    "Aplicamos el criterio estadístico de Mann-Whitney:"
   ]
  },
  {
   "cell_type": "code",
   "execution_count": 53,
   "metadata": {},
   "outputs": [
    {
     "data": {
      "text/plain": [
       "'0.00961'"
      ]
     },
     "execution_count": 53,
     "metadata": {},
     "output_type": "execute_result"
    }
   ],
   "source": [
    "# Ajustamos a 5 decimales\n",
    "\"{0:.5f}\".format(stats.mannwhitneyu(sampleAFiltered, sampleBFiltered)[1])"
   ]
  },
  {
   "cell_type": "markdown",
   "metadata": {},
   "source": [
    "*Valor de significancia considerado: 0.05*\n",
    "\n",
    "**Al igual que los datos sin filtrar, nuestro nuevo valor P es menor al nivel de significación, por lo tanto, se demuestra que las tasas de conversión entre los grupos A y B si tienen diferencias estadísticas significativas.**\n",
    "\n",
    "Veamos la diferencia relativa entre los grupos:"
   ]
  },
  {
   "cell_type": "code",
   "execution_count": 54,
   "metadata": {},
   "outputs": [
    {
     "data": {
      "text/plain": [
       "'0.186'"
      ]
     },
     "execution_count": 54,
     "metadata": {},
     "output_type": "execute_result"
    }
   ],
   "source": [
    "# Diferencia relativa redondeada a tres decimales\n",
    "\"{0:.3f}\".format(sampleBFiltered.mean() / sampleAFiltered.mean() - 1)"
   ]
  },
  {
   "cell_type": "markdown",
   "metadata": {},
   "source": [
    "**La ganancia relativa del grupo B respecto al grupo A en cuanto a la tasa de conversión es de un 18,6%.**\n",
    "\n",
    "**Esto demuestra que el grupo B es mejor que el grupo A.**\n",
    "\n",
    "Veamos que sucede respecto al tamaño promedio de los pedidos ahora con los datos filtrados."
   ]
  },
  {
   "cell_type": "markdown",
   "metadata": {},
   "source": [
    "#### Significancia estadística para las diferencias en el tamaño promedio de los pedidos con datos filtrados"
   ]
  },
  {
   "cell_type": "code",
   "execution_count": 55,
   "metadata": {},
   "outputs": [
    {
     "data": {
      "text/plain": [
       "'0.992'"
      ]
     },
     "execution_count": 55,
     "metadata": {},
     "output_type": "execute_result"
    }
   ],
   "source": [
    "# Prueba de Mann-Whitney con 3 decimales\n",
    "\"{0:.3f}\".format(\n",
    "    stats.mannwhitneyu(\n",
    "        orders_updated[\n",
    "            np.logical_and(\n",
    "                orders_updated['group'] == 'A',\n",
    "                np.logical_not(orders_updated['visitorid'].isin(abnormalUsers)),\n",
    "            )\n",
    "        ]['revenue'],\n",
    "        orders_updated[\n",
    "            np.logical_and(\n",
    "                orders_updated['group'] == 'B',\n",
    "                np.logical_not(orders_updated['visitorid'].isin(abnormalUsers)),\n",
    "            )\n",
    "        ]['revenue'],\n",
    "    )[1]\n",
    ")"
   ]
  },
  {
   "cell_type": "markdown",
   "metadata": {},
   "source": [
    "*Consideramos nuestro nivel de significancia en 0.05*\n",
    "\n",
    "**De acuerdo a la prueba de Mann-Whitney, nuestro valor p es: 0.992**\n",
    "\n",
    "- El valor p es muy superior al nivel de significancia, por lo tanto, y al igual que con los datos sin filtrar, no existen diferencias estadísticamente significativas entre los tamaños de pedido promedio de los grupos.\n",
    "\n",
    "\n",
    "Veamos la diferencia relativa de los datos filtrados:"
   ]
  },
  {
   "cell_type": "code",
   "execution_count": 56,
   "metadata": {},
   "outputs": [
    {
     "data": {
      "text/plain": [
       "'0.016'"
      ]
     },
     "execution_count": 56,
     "metadata": {},
     "output_type": "execute_result"
    }
   ],
   "source": [
    "# Diferencia relativa redondeada a 3 decimales\n",
    "\"{0:.3f}\".format(\n",
    "    orders_updated[\n",
    "        np.logical_and(\n",
    "            orders_updated['group'] == 'B',\n",
    "            np.logical_not(orders_updated['visitorid'].isin(abnormalUsers)),\n",
    "        )\n",
    "    ]['revenue'].mean()\n",
    "    / orders_updated[\n",
    "        np.logical_and(\n",
    "            orders_updated['group'] == 'A',\n",
    "            np.logical_not(orders_updated['visitorid'].isin(abnormalUsers)),\n",
    "        )\n",
    "    ]['revenue'].mean()\n",
    "    - 1\n",
    ")"
   ]
  },
  {
   "cell_type": "markdown",
   "metadata": {},
   "source": [
    "**La diferencia relativa del tamaño medio de compras disminuyó de un 27,8% a un 1,6%.** \n",
    "\n",
    "**Con los datos filtrados se redujo la diferencia de tamaño medio de las compras del grupo B respecto del grupo A. Ahora la media de compras para B solo supera en un 1,6% a las del grupo A.**"
   ]
  },
  {
   "cell_type": "markdown",
   "metadata": {},
   "source": [
    "#### Decisión basada en los resultados de la prueba.                                                                                        "
   ]
  },
  {
   "cell_type": "markdown",
   "metadata": {},
   "source": [
    "Mostramos el resumen del resultado de las pruebas anteriores que influirán en la toma de decisiones:\n",
    "\n",
    "**Tasa de conversión de datos en bruto:**\n",
    "\n",
    "- *Prueba de Mann-Whitney:* valor p de 0.01096.\n",
    "\n",
    "- *Diferencia relativa:* Ganancia de conversión relativa del 16% de B por sobre A.\n",
    "\n",
    "- *Conclusiones:* La hipótesis nula en la prueba de Mann-Whitney queda rechazada y se demuestra que las tasas de conversión de los grupos A y B tienen diferencias estadísticamente significativas. Esto queda confirmado por la ganancia relativa en conversión del 16% del grupo B por sobre el A. \n",
    "\n",
    "\n",
    "**Tamaño promedio de los pedidos en bruto:**\n",
    "\n",
    "- *Prueba de Mann-Whitney:* valor p de 0.862\n",
    "\n",
    "- *Diferencia relativa:* Ganancia de tamaño promedio relativo del 27,8% de B por sobre A.\n",
    "\n",
    "- *Conclusiones:* Dado el valor p muy superior al nivel de significancia, se demuestra que no existen diferencias estadísticamente significativas para este caso. A pesar de esto, la diferencia relativa del valor medio de los pedidos es de un 27,8% más para los pedidos de B que los de A, demostrando que existen valores atípicos que elevan bastante la media del grupo B.\n",
    "\n",
    "\n",
    "**Tasa de conversión con datos filtrados:**\n",
    "\n",
    "- *Prueba de Mann-Whitney:* valor p de 0.00961\n",
    "\n",
    "- *Diferencia relativa:* Ganancia de conversión relativa del 18,6% de B por sobre A.\n",
    "\n",
    "- *Conclusiones:* Al igual que con los datos en bruto, el valor p es menor al nivel de significación lo que confirma que las tasas de conversión de los grupos A y B tienen diferencias estadísticamente significativas. La diferencia relativa de la tasa de conversión ahora aumenta de 16% a 18,6% en favor del grupo B. Se demuestra que B presenta mejores resultados que A.\n",
    "\n",
    "\n",
    "**Tamaño promedio de los pedidos con datos filtrados:**\n",
    "\n",
    "- *Prueba de Mann-Whitney:* valor p de 0.992\n",
    "\n",
    "- *Diferencia relativa:* Ganancia de tamaño promedio relativo del 1,6% de B por sobre A.\n",
    "\n",
    "- *Conclusiones:* Al igual que con los datos en bruto, de acuerdo a el valor p muy superior al nivel de significancia, se demuestra que no existen diferencias estadísticamente significativas para este caso. Los datos filtrados permitieron que la diferencia relativa del tamaño promedio de los pedidos disminuyera de un 27,8% a un 1,6%."
   ]
  },
  {
   "cell_type": "markdown",
   "metadata": {},
   "source": [
    "**Conclusiones respecto a la prueba A/B:**\n",
    "\n",
    "- Hay diferencias significativas en las tasas de conversión de los grupos. Después de eliminar anomalías, la brecha aumenta levemente a favor del grupo B; por lo tanto, el grupo B demuestra tener una mejor conversión de visitantes a compradores en la prueba.\n",
    "\n",
    "\n",
    "- En cuanto al tamaño promedio de los pedidos, las pruebas estadísticas demuestran que no hay mayor diferencia en los promedios, pero si, la diferencia relativa es alta en los datos en bruto. Al eliminar las anomalías se disminuyen casi totalmente estas diferencias lo que da a entender que la diferencia de tamaño promedio solo estaba dado por unos pocos valores atípicos. \n",
    "\n",
    "Recordemos algunos gráficos para confirmar los resultados:\n",
    "<img src=https://i.ibb.co/9GtqsB8/tasaconversion.png>"
   ]
  },
  {
   "cell_type": "markdown",
   "metadata": {},
   "source": [
    "**La tasa de conversión del grupo B respecto al grupo A demuestra ser superior y estable luego de la primera semana de prueba. Si bien hay unas leves bajas después de mitad de mes, se experimentan subidas que estabilizan el nivel de conversión.**"
   ]
  },
  {
   "cell_type": "markdown",
   "metadata": {},
   "source": [
    "En cuanto a los tamaños promedios de compra, tenemos la siguiente situación de B respecto a A:\n",
    "\n",
    "<img src=https://i.ibb.co/ZJZyJgM/ingresospromedio.png>"
   ]
  },
  {
   "cell_type": "markdown",
   "metadata": {},
   "source": [
    "**El grupo B muestra ciertos picos de aumento lo que está influenciado por datos anómalos. Si bien, existen estas alteraciones, los datos tienden a igualarse como se demuestra a mediados de mes o en la curva en descenso luego de la tercera semana. Aún así, no se pueden sacar conclusiones definitivas de este gráfico.**"
   ]
  },
  {
   "cell_type": "markdown",
   "metadata": {},
   "source": [
    "Basado en todos estos hechos, podemos concluir que **la prueba fue exitosa y debe pararse.** La probabilidad de que el grupo A sea mejor que el B es casi inexistente ya ya que el amplio márgen de conversión a favor del grupo B ha sido estable a través del tiempo. Los tamaños promedios de compra son muy similares eliminando los datos anómalos; y aún en este escenario, el grupo B aumenta su capacidad de conversión respecto a A.\n",
    "\n",
    "**El grupo B tiene un leve mejor promedio de tamaño de compra y una capacidad de transformar visitantes en clientes de casi un 20% superior.**"
   ]
  },
  {
   "cell_type": "markdown",
   "metadata": {},
   "source": [
    "## Conclusiones finales"
   ]
  },
  {
   "cell_type": "markdown",
   "metadata": {},
   "source": [
    "**Respecto a la priorización de hipótesis:**\n",
    "\n",
    "Al comienzo de este análisis se trabajó en la priorización de hipótesis. Disponíamos de nueve hipótesis que establecen formas de mejorar los ingresos para la compañía. Para esto, usamos distintos criterios y métricas para elegir la más apropiada a priorizar; entre ellos el framework ICE y RICE, los cuales en su conjunto dieron por ganadora a la octava hipótesis como mejor opción:\n",
    "\n",
    "\"*Añadir un formulario de suscripción a todas las páginas principales*\"\n",
    "\n",
    "Debido a sus buenos parámetros generales y un esfuerzo de recursos medio, se perfila como la primera candidata.\n",
    "\n",
    "\n",
    "**Respecto al Test A/B:**\n",
    "\n",
    "Corregimos un error en los dataset en el cual se presentaron usuarios que estaban tanto en el grupo A como en el B. Se eliminaron 181 registros correspondientes a estos 58 usuarios duales.\n",
    "\n",
    "Se trabajó en los datos de una prueba hecha durante todo el mes de agosto de 2019:\n",
    "\n",
    "- Analizamos gráficamente los datos acumulados\n",
    "- Observamos las diferencias relativas entre los grupos\n",
    "- Se exploró la dispersión de los datos para detectar anomalías\n",
    "\n",
    "Luego de esto, se procedió a calcular la significancia estadística de acuerdo al criterio de Mann-Whitney para determinar el grupo que tenga los mejores resultados. Esto se aplicó para los datos en bruto como para los datos filtrados (sin valores atípicos) y las conclusiones fueron evidentes:\n",
    "\n",
    "**El grupo B muestra mejores resultados que A debido a una tasa de conversión relativa superior por casi un 20% que se mantiene constante a través del tiempo y una leve mejora en el tamaño de compra. Por lo tanto, la prueba fue exitosa y debe pararse.**"
   ]
  }
 ],
 "metadata": {
  "kernelspec": {
   "display_name": "Python 3 (ipykernel)",
   "language": "python",
   "name": "python3"
  },
  "language_info": {
   "codemirror_mode": {
    "name": "ipython",
    "version": 3
   },
   "file_extension": ".py",
   "mimetype": "text/x-python",
   "name": "python",
   "nbconvert_exporter": "python",
   "pygments_lexer": "ipython3",
   "version": "3.9.5"
  },
  "toc": {
   "base_numbering": 1,
   "nav_menu": {},
   "number_sections": true,
   "sideBar": true,
   "skip_h1_title": true,
   "title_cell": "Table of Contents",
   "title_sidebar": "Contents",
   "toc_cell": false,
   "toc_position": {
    "height": "calc(100% - 180px)",
    "left": "10px",
    "top": "150px",
    "width": "355.797px"
   },
   "toc_section_display": true,
   "toc_window_display": false
  }
 },
 "nbformat": 4,
 "nbformat_minor": 2
}
